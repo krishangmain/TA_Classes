{
 "cells": [
  {
   "cell_type": "markdown",
   "id": "fcd72880-75d4-4f9d-a1a6-6822b3a55888",
   "metadata": {},
   "source": [
    "DECORATORS"
   ]
  },
  {
   "cell_type": "code",
   "execution_count": 2,
   "id": "fd22ec32-2282-47dd-bab5-c07e6739b191",
   "metadata": {},
   "outputs": [
    {
     "name": "stdout",
     "output_type": "stream",
     "text": [
      "3\n"
     ]
    }
   ],
   "source": [
    "def summer(a,b):\n",
    "    return a+b\n",
    "c=summer(1,2)\n",
    "print(c)"
   ]
  },
  {
   "cell_type": "code",
   "execution_count": 6,
   "id": "e6d2092a-04cb-4077-8d62-94390ac34e93",
   "metadata": {},
   "outputs": [],
   "source": [
    "def my_decorator(func):\n",
    "    def wrapper():\n",
    "        print(\"This is happening before the func call\")\n",
    "        func()\n",
    "        print(\"This is happening after the func call \")\n",
    "    return wrapper"
   ]
  },
  {
   "cell_type": "code",
   "execution_count": 7,
   "id": "ccb03024-4fc6-4eea-9a19-6b5071fd84c3",
   "metadata": {},
   "outputs": [],
   "source": [
    "def hello():\n",
    "    print(\"Hello World\")\n",
    "    "
   ]
  },
  {
   "cell_type": "code",
   "execution_count": 8,
   "id": "49aebf90-6bbd-4739-acba-07fc6d7b9f46",
   "metadata": {},
   "outputs": [],
   "source": [
    "@my_decorator\n",
    "def hello():\n",
    "    print(\"Hello World\")  #my_decorator(hello)"
   ]
  },
  {
   "cell_type": "code",
   "execution_count": 9,
   "id": "46280624-46bc-4447-8f6d-cfde9713a4e4",
   "metadata": {},
   "outputs": [
    {
     "name": "stdout",
     "output_type": "stream",
     "text": [
      "This is happening before the func call\n",
      "Hello World\n",
      "This is happening after the func call \n"
     ]
    }
   ],
   "source": [
    "hello()"
   ]
  },
  {
   "cell_type": "code",
   "execution_count": 37,
   "id": "9143a87f-8ede-44d7-9b5c-6c50b19eba3e",
   "metadata": {},
   "outputs": [
    {
     "name": "stdin",
     "output_type": "stream",
     "text": [
      "enter a password 25648\n"
     ]
    },
    {
     "name": "stdout",
     "output_type": "stream",
     "text": [
      "Incorrect Password\n"
     ]
    }
   ],
   "source": [
    "def password(func):\n",
    "    password1=\"1234\"\n",
    "\n",
    "    def wrapper(*args):\n",
    "        enteredpassword=input(\"enter a password\")\n",
    "        if enteredpassword==password1:\n",
    "            return func(*args)\n",
    "        else:\n",
    "            print(\"Incorrect Password\")\n",
    "            return None\n",
    "    return wrapper\n",
    "\n",
    "@password\n",
    "def access():\n",
    "    print(\"Password is correct and you have access now\")\n",
    "    \n",
    "\n",
    "access()"
   ]
  },
  {
   "cell_type": "code",
   "execution_count": null,
   "id": "0b0e0040-9b5b-40ec-ab64-49460c1ff4e5",
   "metadata": {},
   "outputs": [],
   "source": []
  }
 ],
 "metadata": {
  "kernelspec": {
   "display_name": "Python 3 (ipykernel)",
   "language": "python",
   "name": "python3"
  },
  "language_info": {
   "codemirror_mode": {
    "name": "ipython",
    "version": 3
   },
   "file_extension": ".py",
   "mimetype": "text/x-python",
   "name": "python",
   "nbconvert_exporter": "python",
   "pygments_lexer": "ipython3",
   "version": "3.11.5"
  }
 },
 "nbformat": 4,
 "nbformat_minor": 5
}
