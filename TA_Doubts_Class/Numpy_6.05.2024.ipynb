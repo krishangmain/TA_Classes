{
 "cells": [
  {
   "cell_type": "code",
   "execution_count": 2,
   "id": "260f01b6-5555-4cd9-8eb9-c6f038d279c2",
   "metadata": {},
   "outputs": [],
   "source": [
    "#NUMPY"
   ]
  },
  {
   "cell_type": "code",
   "execution_count": 71,
   "id": "16834d69-07f8-4d0b-a17a-2c09740370fd",
   "metadata": {},
   "outputs": [],
   "source": [
    "import numpy as np"
   ]
  },
  {
   "cell_type": "code",
   "execution_count": 72,
   "id": "86505f3f-4b79-46f1-96b7-d567970fca3b",
   "metadata": {},
   "outputs": [],
   "source": [
    "a=[]"
   ]
  },
  {
   "cell_type": "code",
   "execution_count": 73,
   "id": "a649e455-51c8-4658-b8ca-4f6909147a23",
   "metadata": {},
   "outputs": [],
   "source": [
    "for i in range(100):\n",
    "    a.append(i)\n",
    "    "
   ]
  },
  {
   "cell_type": "code",
   "execution_count": 74,
   "id": "50dd9128-6d39-41f9-87d0-82a27d4d9fcf",
   "metadata": {},
   "outputs": [
    {
     "name": "stdout",
     "output_type": "stream",
     "text": [
      "[0, 1, 2, 3, 4, 5, 6, 7, 8, 9, 10, 11, 12, 13, 14, 15, 16, 17, 18, 19, 20, 21, 22, 23, 24, 25, 26, 27, 28, 29, 30, 31, 32, 33, 34, 35, 36, 37, 38, 39, 40, 41, 42, 43, 44, 45, 46, 47, 48, 49, 50, 51, 52, 53, 54, 55, 56, 57, 58, 59, 60, 61, 62, 63, 64, 65, 66, 67, 68, 69, 70, 71, 72, 73, 74, 75, 76, 77, 78, 79, 80, 81, 82, 83, 84, 85, 86, 87, 88, 89, 90, 91, 92, 93, 94, 95, 96, 97, 98, 99]\n"
     ]
    }
   ],
   "source": [
    "print(a)"
   ]
  },
  {
   "cell_type": "code",
   "execution_count": 75,
   "id": "d6c20ee8-a6b8-4257-bf0a-75a3b345265f",
   "metadata": {},
   "outputs": [
    {
     "data": {
      "text/plain": [
       "list"
      ]
     },
     "execution_count": 75,
     "metadata": {},
     "output_type": "execute_result"
    }
   ],
   "source": [
    "type(a)"
   ]
  },
  {
   "cell_type": "code",
   "execution_count": 76,
   "id": "941ba4cb-4acc-4f7d-8558-ae41c5dd90ac",
   "metadata": {},
   "outputs": [],
   "source": [
    "# we need to work with arrays, jitni bhi calculation hoti hai woh arrays pe hoti hai "
   ]
  },
  {
   "cell_type": "code",
   "execution_count": 77,
   "id": "95e80106-7c3a-450e-9c06-eaa5e16cdf2b",
   "metadata": {},
   "outputs": [],
   "source": [
    "a=np.array(a)"
   ]
  },
  {
   "cell_type": "code",
   "execution_count": 86,
   "id": "9562193b-ac5f-4c3d-bbaf-ef2ed63523fe",
   "metadata": {},
   "outputs": [
    {
     "data": {
      "text/plain": [
       "array([ 0,  1,  2,  3,  4,  5,  6,  7,  8,  9, 10, 11, 12, 13, 14, 15, 16,\n",
       "       17, 18, 19, 20, 21, 22, 23, 24, 25, 26, 27, 28, 29, 30, 31, 32, 33,\n",
       "       34, 35, 36, 37, 38, 39, 40, 41, 42, 43, 44, 45, 46, 47, 48, 49])"
      ]
     },
     "execution_count": 86,
     "metadata": {},
     "output_type": "execute_result"
    }
   ],
   "source": [
    "a[:50]"
   ]
  },
  {
   "cell_type": "code",
   "execution_count": 173,
   "id": "842405d3-1d70-4d13-aa4d-6fe40f404385",
   "metadata": {},
   "outputs": [],
   "source": [
    "b=np.array([[1,2,3,4,5],[2,3,4,5,6]])"
   ]
  },
  {
   "cell_type": "code",
   "execution_count": 37,
   "id": "16dcbceb-bfcf-4173-8358-0f99650b5f92",
   "metadata": {},
   "outputs": [
    {
     "data": {
      "text/plain": [
       "array([[1, 2, 3, 4, 5],\n",
       "       [2, 3, 4, 5, 6]])"
      ]
     },
     "execution_count": 37,
     "metadata": {},
     "output_type": "execute_result"
    }
   ],
   "source": [
    "b"
   ]
  },
  {
   "cell_type": "code",
   "execution_count": 40,
   "id": "e1a28250-4fcd-44e5-a3eb-7f77f623b61b",
   "metadata": {},
   "outputs": [
    {
     "data": {
      "text/plain": [
       "4"
      ]
     },
     "execution_count": 40,
     "metadata": {},
     "output_type": "execute_result"
    }
   ],
   "source": [
    "b[1][2]"
   ]
  },
  {
   "cell_type": "code",
   "execution_count": 41,
   "id": "7ba7fe10-4b72-446a-bb57-8f7e7e520714",
   "metadata": {},
   "outputs": [
    {
     "data": {
      "text/plain": [
       "numpy.ndarray"
      ]
     },
     "execution_count": 41,
     "metadata": {},
     "output_type": "execute_result"
    }
   ],
   "source": [
    "type(b)"
   ]
  },
  {
   "cell_type": "code",
   "execution_count": 42,
   "id": "85b41742-4259-4c63-858f-036f0a10f964",
   "metadata": {},
   "outputs": [
    {
     "data": {
      "text/plain": [
       "(2, 5)"
      ]
     },
     "execution_count": 42,
     "metadata": {},
     "output_type": "execute_result"
    }
   ],
   "source": [
    "b.shape"
   ]
  },
  {
   "cell_type": "code",
   "execution_count": 54,
   "id": "b29336d5-dd61-4f85-9f92-d9ed96f88576",
   "metadata": {},
   "outputs": [],
   "source": [
    "# len(b[0])\n",
    "\n",
    "# a=[[1,2,3,4,5],[1,2,3,4,5]]\n",
    "\n",
    "# b=a[0]\n",
    "\n",
    "# b\n",
    "\n",
    "# b[1]\n",
    "\n",
    "# a[0][1]\n",
    "\n"
   ]
  },
  {
   "cell_type": "code",
   "execution_count": 59,
   "id": "90e8927c-8a86-4317-a52f-2fa941199942",
   "metadata": {},
   "outputs": [],
   "source": [
    "c=np.full((3,2),5)"
   ]
  },
  {
   "cell_type": "code",
   "execution_count": 60,
   "id": "8ca18f07-a719-4eff-98db-758ae987482e",
   "metadata": {},
   "outputs": [
    {
     "data": {
      "text/plain": [
       "array([[5, 5],\n",
       "       [5, 5],\n",
       "       [5, 5]])"
      ]
     },
     "execution_count": 60,
     "metadata": {},
     "output_type": "execute_result"
    }
   ],
   "source": [
    "c"
   ]
  },
  {
   "cell_type": "code",
   "execution_count": 61,
   "id": "79ad22b1-2ca3-49d4-a4bd-47a3347e103e",
   "metadata": {},
   "outputs": [],
   "source": [
    "#identity matrix diagonals are 1 and rest of the elments are 0"
   ]
  },
  {
   "cell_type": "code",
   "execution_count": 66,
   "id": "30288a26-01dd-489d-937f-6e81ce066abe",
   "metadata": {},
   "outputs": [
    {
     "data": {
      "text/plain": [
       "array([[1, 0],\n",
       "       [0, 1],\n",
       "       [0, 0],\n",
       "       [0, 0]])"
      ]
     },
     "execution_count": 66,
     "metadata": {},
     "output_type": "execute_result"
    }
   ],
   "source": [
    "np.eye(4,2,dtype=int)"
   ]
  },
  {
   "cell_type": "code",
   "execution_count": 98,
   "id": "eb1dfe51-7094-462d-bcc7-8b83d0f301a2",
   "metadata": {},
   "outputs": [],
   "source": [
    "randoms=np.random.random((5,6))"
   ]
  },
  {
   "cell_type": "code",
   "execution_count": 99,
   "id": "7cb59608-cf10-4e9e-bb1b-5e6c0859c6d3",
   "metadata": {},
   "outputs": [
    {
     "data": {
      "text/plain": [
       "array([[0.17945139, 0.28303951, 0.09239602, 0.35216731, 0.98619542,\n",
       "        0.0547478 ],\n",
       "       [0.26657199, 0.35768874, 0.47984899, 0.58754765, 0.59403249,\n",
       "        0.07700294],\n",
       "       [0.88952045, 0.19287099, 0.43948848, 0.03064514, 0.59767335,\n",
       "        0.48246639],\n",
       "       [0.90396571, 0.41993716, 0.12745285, 0.07766246, 0.81210975,\n",
       "        0.85885153],\n",
       "       [0.05175172, 0.28032072, 0.68422463, 0.84175433, 0.9094859 ,\n",
       "        0.56203092]])"
      ]
     },
     "execution_count": 99,
     "metadata": {},
     "output_type": "execute_result"
    }
   ],
   "source": [
    "randoms"
   ]
  },
  {
   "cell_type": "code",
   "execution_count": 100,
   "id": "45920d43-805d-4eb3-9759-ab6f1fd710e9",
   "metadata": {},
   "outputs": [],
   "source": [
    "# randoms=randoms[0]"
   ]
  },
  {
   "cell_type": "code",
   "execution_count": 102,
   "id": "fe1523da-de0b-4ca4-8452-aff5ce36a752",
   "metadata": {},
   "outputs": [
    {
     "data": {
      "text/plain": [
       "array([[0.90396571, 0.41993716],\n",
       "       [0.05175172, 0.28032072]])"
      ]
     },
     "execution_count": 102,
     "metadata": {},
     "output_type": "execute_result"
    }
   ],
   "source": [
    "randoms[3:,:2]  #, daalke is for 2d array, not for singular array "
   ]
  },
  {
   "cell_type": "code",
   "execution_count": 104,
   "id": "c023da5b-ace2-47b0-8708-afde6b638706",
   "metadata": {},
   "outputs": [],
   "source": [
    "# randoms[3:]"
   ]
  },
  {
   "cell_type": "code",
   "execution_count": 105,
   "id": "b49d8f3d-09e0-49ab-be97-b0090f34f79f",
   "metadata": {},
   "outputs": [],
   "source": [
    "X=np.array([[1,2],[3,4]])\n",
    "Y=np.array([[5,6],[7,8]])"
   ]
  },
  {
   "cell_type": "code",
   "execution_count": 107,
   "id": "c342a873-6418-4605-ab7f-845da27dd81e",
   "metadata": {},
   "outputs": [
    {
     "data": {
      "text/plain": [
       "((2, 2), (2, 2))"
      ]
     },
     "execution_count": 107,
     "metadata": {},
     "output_type": "execute_result"
    }
   ],
   "source": [
    "X.shape,Y.shape"
   ]
  },
  {
   "cell_type": "code",
   "execution_count": 108,
   "id": "016d6ca9-9e3d-47f9-b08f-d5c5e812cb81",
   "metadata": {},
   "outputs": [
    {
     "data": {
      "text/plain": [
       "array([[ 6,  8],\n",
       "       [10, 12]])"
      ]
     },
     "execution_count": 108,
     "metadata": {},
     "output_type": "execute_result"
    }
   ],
   "source": [
    "X+Y"
   ]
  },
  {
   "cell_type": "code",
   "execution_count": 109,
   "id": "18e132ef-5bd4-429e-9d50-9966c6e27419",
   "metadata": {},
   "outputs": [
    {
     "data": {
      "text/plain": [
       "array([[ 6,  8],\n",
       "       [10, 12]])"
      ]
     },
     "execution_count": 109,
     "metadata": {},
     "output_type": "execute_result"
    }
   ],
   "source": [
    "np.add(X,Y)"
   ]
  },
  {
   "cell_type": "code",
   "execution_count": 110,
   "id": "acf5834d-7f96-488d-b7dc-581dee091ec8",
   "metadata": {},
   "outputs": [
    {
     "data": {
      "text/plain": [
       "array([[-4, -4],\n",
       "       [-4, -4]])"
      ]
     },
     "execution_count": 110,
     "metadata": {},
     "output_type": "execute_result"
    }
   ],
   "source": [
    "np.subtract(X,Y)"
   ]
  },
  {
   "cell_type": "code",
   "execution_count": 111,
   "id": "c52aa0c0-1f66-4548-8535-263ca69567d9",
   "metadata": {},
   "outputs": [
    {
     "data": {
      "text/plain": [
       "array([[-4, -4],\n",
       "       [-4, -4]])"
      ]
     },
     "execution_count": 111,
     "metadata": {},
     "output_type": "execute_result"
    }
   ],
   "source": [
    "X-Y"
   ]
  },
  {
   "cell_type": "code",
   "execution_count": 112,
   "id": "b9510a16-0e8c-4582-872f-e07ccf48600e",
   "metadata": {},
   "outputs": [
    {
     "data": {
      "text/plain": [
       "array([[ 5, 12],\n",
       "       [21, 32]])"
      ]
     },
     "execution_count": 112,
     "metadata": {},
     "output_type": "execute_result"
    }
   ],
   "source": [
    "np.multiply(X,Y)"
   ]
  },
  {
   "cell_type": "code",
   "execution_count": 113,
   "id": "5565cc7c-9e32-4767-887f-3f537a634f57",
   "metadata": {},
   "outputs": [
    {
     "data": {
      "text/plain": [
       "array([[ 5, 12],\n",
       "       [21, 32]])"
      ]
     },
     "execution_count": 113,
     "metadata": {},
     "output_type": "execute_result"
    }
   ],
   "source": [
    "X*Y"
   ]
  },
  {
   "cell_type": "code",
   "execution_count": 114,
   "id": "05de3637-3d72-4c1d-ade2-fbb05f842357",
   "metadata": {},
   "outputs": [
    {
     "data": {
      "text/plain": [
       "array([[19, 22],\n",
       "       [43, 50]])"
      ]
     },
     "execution_count": 114,
     "metadata": {},
     "output_type": "execute_result"
    }
   ],
   "source": [
    "np.matmul(X,Y)"
   ]
  },
  {
   "cell_type": "code",
   "execution_count": 115,
   "id": "c37f8eae-f547-4b4c-919d-10ab393f583b",
   "metadata": {},
   "outputs": [
    {
     "data": {
      "text/plain": [
       "array([[19, 22],\n",
       "       [43, 50]])"
      ]
     },
     "execution_count": 115,
     "metadata": {},
     "output_type": "execute_result"
    }
   ],
   "source": [
    "X@Y"
   ]
  },
  {
   "cell_type": "code",
   "execution_count": 116,
   "id": "e47222f4-e95f-478f-bdc2-62fa3e41f477",
   "metadata": {},
   "outputs": [
    {
     "data": {
      "text/plain": [
       "array([[0.2       , 0.33333333],\n",
       "       [0.42857143, 0.5       ]])"
      ]
     },
     "execution_count": 116,
     "metadata": {},
     "output_type": "execute_result"
    }
   ],
   "source": [
    "np.divide(X,Y)"
   ]
  },
  {
   "cell_type": "code",
   "execution_count": 117,
   "id": "27834685-7ee8-449f-afed-642d4d511316",
   "metadata": {},
   "outputs": [
    {
     "data": {
      "text/plain": [
       "array([[0.2       , 0.33333333],\n",
       "       [0.42857143, 0.5       ]])"
      ]
     },
     "execution_count": 117,
     "metadata": {},
     "output_type": "execute_result"
    }
   ],
   "source": [
    "X/Y"
   ]
  },
  {
   "cell_type": "code",
   "execution_count": 118,
   "id": "0e929cde-09a3-46c9-ad89-91085cab5cec",
   "metadata": {},
   "outputs": [
    {
     "data": {
      "text/plain": [
       "array([[1.        , 1.41421356],\n",
       "       [1.73205081, 2.        ]])"
      ]
     },
     "execution_count": 118,
     "metadata": {},
     "output_type": "execute_result"
    }
   ],
   "source": [
    "np.sqrt(X)"
   ]
  },
  {
   "cell_type": "code",
   "execution_count": 120,
   "id": "6129d051-aee1-4a5d-aebe-be5f34936f27",
   "metadata": {},
   "outputs": [
    {
     "data": {
      "text/plain": [
       "array([[19, 22],\n",
       "       [43, 50]])"
      ]
     },
     "execution_count": 120,
     "metadata": {},
     "output_type": "execute_result"
    }
   ],
   "source": [
    "np.dot(X,Y)"
   ]
  },
  {
   "cell_type": "code",
   "execution_count": 121,
   "id": "ac7f201a-4336-4401-8d65-21b4e77c0b90",
   "metadata": {},
   "outputs": [
    {
     "data": {
      "text/plain": [
       "array([[19, 22],\n",
       "       [43, 50]])"
      ]
     },
     "execution_count": 121,
     "metadata": {},
     "output_type": "execute_result"
    }
   ],
   "source": [
    "X.dot(Y)"
   ]
  },
  {
   "cell_type": "code",
   "execution_count": 122,
   "id": "a290c8d6-f91e-4865-9b2f-1b8547e44d9e",
   "metadata": {},
   "outputs": [],
   "source": [
    "arr=np.array([[1,2,3],[4,5,6]])  #100"
   ]
  },
  {
   "cell_type": "code",
   "execution_count": 125,
   "id": "258ea56c-3966-49d9-9b3e-fde8041271c6",
   "metadata": {},
   "outputs": [],
   "source": [
    "flattened=arr.flatten()   #105"
   ]
  },
  {
   "cell_type": "code",
   "execution_count": 130,
   "id": "6b950add-f2aa-4714-80ab-bc76fb1fc5ad",
   "metadata": {},
   "outputs": [
    {
     "data": {
      "text/plain": [
       "array([1, 2, 3, 4, 5, 6])"
      ]
     },
     "execution_count": 130,
     "metadata": {},
     "output_type": "execute_result"
    }
   ],
   "source": [
    "flattened              #creates and return a copy in memory "
   ]
  },
  {
   "cell_type": "code",
   "execution_count": 128,
   "id": "488d003c-b99b-4ab4-a0be-bd680cd17869",
   "metadata": {},
   "outputs": [],
   "source": [
    "ravel= arr.ravel()    #100"
   ]
  },
  {
   "cell_type": "code",
   "execution_count": 131,
   "id": "4083ab58-99bf-4123-85b3-2dcfbab0354f",
   "metadata": {},
   "outputs": [
    {
     "data": {
      "text/plain": [
       "array([1, 2, 3, 4, 5, 6])"
      ]
     },
     "execution_count": 131,
     "metadata": {},
     "output_type": "execute_result"
    }
   ],
   "source": [
    "ravel                 # changes affect the orignal array "
   ]
  },
  {
   "cell_type": "code",
   "execution_count": 132,
   "id": "dba56898-d8af-40e9-a7d1-c52e1af1b2a8",
   "metadata": {},
   "outputs": [],
   "source": [
    "# stack\n",
    "# randint\n",
    "# ones , zeros\n",
    "# min max mean\n",
    "# average\n",
    "# std"
   ]
  },
  {
   "cell_type": "code",
   "execution_count": 133,
   "id": "b2e2913f-0496-471d-98c6-4aafff198007",
   "metadata": {},
   "outputs": [],
   "source": [
    "a=np.array([1,2,3,4,5])\n",
    "b=np.array([1,2,3,4,5])\n"
   ]
  },
  {
   "cell_type": "code",
   "execution_count": 134,
   "id": "20ed7def-0fd6-4510-8506-30da78ee87d8",
   "metadata": {},
   "outputs": [],
   "source": [
    "b=b**2"
   ]
  },
  {
   "cell_type": "code",
   "execution_count": 135,
   "id": "80752ad3-4d10-465b-80e4-4c4c1a6d89fd",
   "metadata": {},
   "outputs": [
    {
     "data": {
      "text/plain": [
       "array([ 1,  4,  9, 16, 25])"
      ]
     },
     "execution_count": 135,
     "metadata": {},
     "output_type": "execute_result"
    }
   ],
   "source": [
    "b"
   ]
  },
  {
   "cell_type": "code",
   "execution_count": 136,
   "id": "176156dc-5642-4055-9bd8-6ffdb93e7d06",
   "metadata": {},
   "outputs": [
    {
     "data": {
      "text/plain": [
       "(array([[ 1,  2,  3,  4,  5],\n",
       "        [ 1,  4,  9, 16, 25]]),\n",
       " (2, 5))"
      ]
     },
     "execution_count": 136,
     "metadata": {},
     "output_type": "execute_result"
    }
   ],
   "source": [
    "np.stack((a,b),axis=0),np.stack((a,b),axis=0).shape"
   ]
  },
  {
   "cell_type": "code",
   "execution_count": 137,
   "id": "2b30e326-eef3-407a-b00a-89f228a383f8",
   "metadata": {},
   "outputs": [
    {
     "data": {
      "text/plain": [
       "(array([[ 1,  1],\n",
       "        [ 2,  4],\n",
       "        [ 3,  9],\n",
       "        [ 4, 16],\n",
       "        [ 5, 25]]),\n",
       " (5, 2))"
      ]
     },
     "execution_count": 137,
     "metadata": {},
     "output_type": "execute_result"
    }
   ],
   "source": [
    "np.stack((a,b),axis=1),np.stack((a,b),axis=1).shape"
   ]
  },
  {
   "cell_type": "code",
   "execution_count": 140,
   "id": "c4d81de7-a725-4742-9cfe-4bde05a85df4",
   "metadata": {},
   "outputs": [],
   "source": [
    "a=np.stack((a,b),axis=0)"
   ]
  },
  {
   "cell_type": "code",
   "execution_count": 141,
   "id": "7e471aa6-cb27-427a-9759-689dbe81e3d8",
   "metadata": {},
   "outputs": [
    {
     "data": {
      "text/plain": [
       "array([[ 1,  2,  3,  4,  5],\n",
       "       [ 1,  4,  9, 16, 25]])"
      ]
     },
     "execution_count": 141,
     "metadata": {},
     "output_type": "execute_result"
    }
   ],
   "source": [
    "a"
   ]
  },
  {
   "cell_type": "code",
   "execution_count": 142,
   "id": "f916c10f-e980-47a1-bdd6-436cd20c2234",
   "metadata": {},
   "outputs": [
    {
     "data": {
      "text/plain": [
       "(2, 5)"
      ]
     },
     "execution_count": 142,
     "metadata": {},
     "output_type": "execute_result"
    }
   ],
   "source": [
    "a.shape"
   ]
  },
  {
   "cell_type": "code",
   "execution_count": 145,
   "id": "ad2dfe06-f51f-4423-a4c5-1252d0e06082",
   "metadata": {},
   "outputs": [
    {
     "data": {
      "text/plain": [
       "array([[ 1,  2],\n",
       "       [ 3,  4],\n",
       "       [ 5,  1],\n",
       "       [ 4,  9],\n",
       "       [16, 25]])"
      ]
     },
     "execution_count": 145,
     "metadata": {},
     "output_type": "execute_result"
    }
   ],
   "source": [
    "a.reshape(5,2)"
   ]
  },
  {
   "cell_type": "code",
   "execution_count": 149,
   "id": "7e7b6d51-fd0c-4815-90a1-65418b04c2bc",
   "metadata": {},
   "outputs": [],
   "source": [
    "x=np.random.randint(10,50,15)  #random integer, 10 is lower limit , 20 is upper limit, 3 is the number of elements"
   ]
  },
  {
   "cell_type": "code",
   "execution_count": 150,
   "id": "63985d13-89e6-4be0-a352-942567943b4f",
   "metadata": {},
   "outputs": [
    {
     "data": {
      "text/plain": [
       "array([43, 47, 41, 33, 16, 31, 28, 15, 36, 14, 30, 20, 37, 19, 16])"
      ]
     },
     "execution_count": 150,
     "metadata": {},
     "output_type": "execute_result"
    }
   ],
   "source": [
    "x"
   ]
  },
  {
   "cell_type": "code",
   "execution_count": 151,
   "id": "799d09ff-11ec-4560-86b5-c0e1c945eed9",
   "metadata": {},
   "outputs": [],
   "source": [
    "choice= np.random.choice(x)"
   ]
  },
  {
   "cell_type": "code",
   "execution_count": 152,
   "id": "8c45effb-e6ba-434b-a4bc-906fa6765d23",
   "metadata": {},
   "outputs": [
    {
     "data": {
      "text/plain": [
       "28"
      ]
     },
     "execution_count": 152,
     "metadata": {},
     "output_type": "execute_result"
    }
   ],
   "source": [
    "choice"
   ]
  },
  {
   "cell_type": "code",
   "execution_count": 154,
   "id": "8654e367-9016-4afd-8b6a-1383ab9a366b",
   "metadata": {},
   "outputs": [
    {
     "data": {
      "text/plain": [
       "array([[0., 0., 0., 0., 0., 0.],\n",
       "       [0., 0., 0., 0., 0., 0.],\n",
       "       [0., 0., 0., 0., 0., 0.],\n",
       "       [0., 0., 0., 0., 0., 0.],\n",
       "       [0., 0., 0., 0., 0., 0.]])"
      ]
     },
     "execution_count": 154,
     "metadata": {},
     "output_type": "execute_result"
    }
   ],
   "source": [
    "np.zeros((5,6))"
   ]
  },
  {
   "cell_type": "code",
   "execution_count": 158,
   "id": "2a3d53f4-9a50-4e12-9a36-4cfe3c80f8c7",
   "metadata": {},
   "outputs": [
    {
     "data": {
      "text/plain": [
       "array([[1, 1, 1, 1, 1, 1],\n",
       "       [1, 1, 1, 1, 1, 1],\n",
       "       [1, 1, 1, 1, 1, 1],\n",
       "       [1, 1, 1, 1, 1, 1],\n",
       "       [1, 1, 1, 1, 1, 1]])"
      ]
     },
     "execution_count": 158,
     "metadata": {},
     "output_type": "execute_result"
    }
   ],
   "source": [
    "np.ones((5,6),dtype=int)"
   ]
  },
  {
   "cell_type": "code",
   "execution_count": 159,
   "id": "94ac0867-a5fd-4ac3-aea0-9e989a26e156",
   "metadata": {},
   "outputs": [
    {
     "data": {
      "text/plain": [
       "array([[ 1,  2,  3,  4,  5],\n",
       "       [ 1,  4,  9, 16, 25]])"
      ]
     },
     "execution_count": 159,
     "metadata": {},
     "output_type": "execute_result"
    }
   ],
   "source": [
    "a"
   ]
  },
  {
   "cell_type": "code",
   "execution_count": 162,
   "id": "be90e9a4-3d26-42ae-9598-10af2d7c644a",
   "metadata": {},
   "outputs": [],
   "source": [
    "a=a.flatten()"
   ]
  },
  {
   "cell_type": "code",
   "execution_count": 166,
   "id": "7ffeee88-c5d4-43e2-92cf-d7a8e92d1bc7",
   "metadata": {},
   "outputs": [
    {
     "data": {
      "text/plain": [
       "array([43, 47, 41, 33, 16, 31, 28, 15, 36, 14, 30, 20, 37, 19, 16])"
      ]
     },
     "execution_count": 166,
     "metadata": {},
     "output_type": "execute_result"
    }
   ],
   "source": [
    "x"
   ]
  },
  {
   "cell_type": "code",
   "execution_count": 165,
   "id": "40f68412-c590-4fcc-8b0e-049ed367c925",
   "metadata": {},
   "outputs": [
    {
     "data": {
      "text/plain": [
       "14"
      ]
     },
     "execution_count": 165,
     "metadata": {},
     "output_type": "execute_result"
    }
   ],
   "source": [
    "np.min(x)"
   ]
  },
  {
   "cell_type": "code",
   "execution_count": 167,
   "id": "0420582a-b4df-41c6-87a8-04bcb179927c",
   "metadata": {},
   "outputs": [
    {
     "data": {
      "text/plain": [
       "47"
      ]
     },
     "execution_count": 167,
     "metadata": {},
     "output_type": "execute_result"
    }
   ],
   "source": [
    "np.max(x)"
   ]
  },
  {
   "cell_type": "code",
   "execution_count": 168,
   "id": "85fa5c8f-0a5e-43d4-a9c3-eac9aaff4ef1",
   "metadata": {},
   "outputs": [
    {
     "data": {
      "text/plain": [
       "28.4"
      ]
     },
     "execution_count": 168,
     "metadata": {},
     "output_type": "execute_result"
    }
   ],
   "source": [
    "np.average(x)"
   ]
  },
  {
   "cell_type": "code",
   "execution_count": 170,
   "id": "78614e60-c627-4c89-8d64-a9c91546b2c0",
   "metadata": {},
   "outputs": [
    {
     "data": {
      "text/plain": [
       "28.4"
      ]
     },
     "execution_count": 170,
     "metadata": {},
     "output_type": "execute_result"
    }
   ],
   "source": [
    "np.mean(x)"
   ]
  },
  {
   "cell_type": "code",
   "execution_count": 171,
   "id": "cd984164-41d3-4d74-b205-e264d32582cc",
   "metadata": {},
   "outputs": [
    {
     "data": {
      "text/plain": [
       "10.750503864160661"
      ]
     },
     "execution_count": 171,
     "metadata": {},
     "output_type": "execute_result"
    }
   ],
   "source": [
    "np.std(x)"
   ]
  },
  {
   "cell_type": "code",
   "execution_count": 174,
   "id": "7b2aec8a-d3f3-4d3c-9c40-8b0e053a4ba3",
   "metadata": {},
   "outputs": [
    {
     "data": {
      "text/plain": [
       "array([[1, 2, 3, 4, 5],\n",
       "       [2, 3, 4, 5, 6]])"
      ]
     },
     "execution_count": 174,
     "metadata": {},
     "output_type": "execute_result"
    }
   ],
   "source": [
    "b"
   ]
  },
  {
   "cell_type": "code",
   "execution_count": 175,
   "id": "8690bc7e-2ee0-41c2-a7a0-520b91e059bd",
   "metadata": {},
   "outputs": [
    {
     "data": {
      "text/plain": [
       "array([[[1, 2, 3, 4, 5],\n",
       "        [2, 3, 4, 5, 6]]])"
      ]
     },
     "execution_count": 175,
     "metadata": {},
     "output_type": "execute_result"
    }
   ],
   "source": [
    "np.expand_dims(b,axis=0)"
   ]
  },
  {
   "cell_type": "code",
   "execution_count": 176,
   "id": "123dca58-0304-42a8-bb25-ecb5039b8a60",
   "metadata": {},
   "outputs": [
    {
     "data": {
      "text/plain": [
       "array([[[1, 2, 3, 4, 5]],\n",
       "\n",
       "       [[2, 3, 4, 5, 6]]])"
      ]
     },
     "execution_count": 176,
     "metadata": {},
     "output_type": "execute_result"
    }
   ],
   "source": [
    "np.expand_dims(b,axis=1)"
   ]
  },
  {
   "cell_type": "code",
   "execution_count": null,
   "id": "fc92cf9a-e09d-4d5f-807d-c7406c955232",
   "metadata": {},
   "outputs": [],
   "source": []
  }
 ],
 "metadata": {
  "kernelspec": {
   "display_name": "Python 3 (ipykernel)",
   "language": "python",
   "name": "python3"
  },
  "language_info": {
   "codemirror_mode": {
    "name": "ipython",
    "version": 3
   },
   "file_extension": ".py",
   "mimetype": "text/x-python",
   "name": "python",
   "nbconvert_exporter": "python",
   "pygments_lexer": "ipython3",
   "version": "3.10.13"
  }
 },
 "nbformat": 4,
 "nbformat_minor": 5
}
