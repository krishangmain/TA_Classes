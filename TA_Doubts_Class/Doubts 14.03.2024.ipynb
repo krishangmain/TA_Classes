{
 "cells": [
  {
   "cell_type": "code",
   "execution_count": 1,
   "id": "94a97cca-7440-49e5-9b55-e93aac92ff04",
   "metadata": {},
   "outputs": [],
   "source": [
    "# vectors \n",
    "# 1i + 2j +3k\n",
    "# class vector\n",
    "# methods dot product \n",
    "# cross product "
   ]
  },
  {
   "cell_type": "code",
   "execution_count": 27,
   "id": "3b947402-f579-408a-8d83-5d4c3d74cacf",
   "metadata": {},
   "outputs": [],
   "source": [
    "def adder1(a,b):\n",
    "    return a+b"
   ]
  },
  {
   "cell_type": "code",
   "execution_count": 28,
   "id": "7da75dc4-5080-49e6-bd1f-7a76a08c0000",
   "metadata": {},
   "outputs": [
    {
     "name": "stdout",
     "output_type": "stream",
     "text": [
      "3\n"
     ]
    }
   ],
   "source": [
    "print(adder1(1,2))"
   ]
  },
  {
   "cell_type": "code",
   "execution_count": 24,
   "id": "457df03c-300d-4633-9fac-abe66ef48b17",
   "metadata": {},
   "outputs": [],
   "source": [
    "# Class\n",
    "# object\n",
    "# constructor is a special method \n",
    "# it is run everytime an object is created \n",
    "\n",
    "# def name1(name):\n",
    "#     print(name) attributes\n",
    "#     add(a,b)\n",
    "#     print(a+b)\n",
    "\n",
    "class add_two:\n",
    "    def __init__(self,a,b):\n",
    "        self.a=a\n",
    "        self.b=b\n",
    "\n",
    "    def adder(self):\n",
    "        return self.a+self.b"
   ]
  },
  {
   "cell_type": "code",
   "execution_count": 15,
   "id": "ce3eb52d-67d5-4cba-8b34-a253fee1d025",
   "metadata": {},
   "outputs": [],
   "source": [
    "class dog:\n",
    "    def __init__(self,name):\n",
    "        self.name=name\n",
    "    \n",
    "    def say_name(self):\n",
    "        print(\"My name is:\",self.name)"
   ]
  },
  {
   "cell_type": "code",
   "execution_count": 16,
   "id": "d31fbd5c-1b00-48ef-b04f-b2f0a684e59b",
   "metadata": {},
   "outputs": [],
   "source": [
    "bunny = dog(\"bunny\")"
   ]
  },
  {
   "cell_type": "code",
   "execution_count": 17,
   "id": "06b36dc7-feb5-4751-8bd0-5ee1450275c9",
   "metadata": {},
   "outputs": [],
   "source": [
    "tommy= dog(\"tommy\")\n"
   ]
  },
  {
   "cell_type": "code",
   "execution_count": 18,
   "id": "6aaa4aaa-0c60-4407-90f4-20860f70af26",
   "metadata": {},
   "outputs": [],
   "source": [
    "# bunny.say_name()"
   ]
  },
  {
   "cell_type": "code",
   "execution_count": 25,
   "id": "62c474b3-5b04-4946-9ee4-bda99d8a8278",
   "metadata": {},
   "outputs": [],
   "source": [
    "number=add_two(1,2)"
   ]
  },
  {
   "cell_type": "code",
   "execution_count": 26,
   "id": "57cfe9e9-a8c5-4cd4-8b2a-dc7d2f9eb016",
   "metadata": {},
   "outputs": [
    {
     "name": "stdout",
     "output_type": "stream",
     "text": [
      "3\n"
     ]
    }
   ],
   "source": [
    "print(number.adder())"
   ]
  },
  {
   "cell_type": "code",
   "execution_count": 30,
   "id": "d8fe9a21-ffff-4ffa-a5b3-26de3eb5d90c",
   "metadata": {},
   "outputs": [],
   "source": [
    "# Inheritence \n",
    "\n",
    "# class person\n",
    "# name, age, gender\n",
    "\n",
    "# class leads(person)\n",
    "# branch time reviews\n",
    "\n",
    "# class better leads(leads) \n",
    "# A,B,C   \n"
   ]
  },
  {
   "cell_type": "code",
   "execution_count": 31,
   "id": "3eaea281-6afa-4168-8413-4e2f7a697cd5",
   "metadata": {},
   "outputs": [],
   "source": [
    "class Person():\n",
    "    def __init__(self,name,aadhar):\n",
    "        self.name = name\n",
    "        self.aadhar = aadhar\n",
    "    def display(self):\n",
    "        print(self.name)\n",
    "        print(self.aadhar)\n",
    "    \n",
    "\n",
    "    "
   ]
  },
  {
   "cell_type": "code",
   "execution_count": 32,
   "id": "39e2a909-b14b-4a56-aa13-b0343eebc2cb",
   "metadata": {},
   "outputs": [],
   "source": [
    "class Employee(Person):\n",
    "    def __init__(self,name,aadhar,salary,position):\n",
    "        self.salary=salary\n",
    "        self.position=position\n",
    "        Person.__init__(self,name,aadhar)\n",
    "    def display(self):\n",
    "        print(self.salary)\n",
    "        print(self.position)\n",
    "        Person.display(self)\n",
    "    "
   ]
  },
  {
   "cell_type": "code",
   "execution_count": 33,
   "id": "c269bb90-c2fb-487d-841e-727de359ad94",
   "metadata": {},
   "outputs": [],
   "source": [
    "Employee1 = Employee(\"Sahil\",1245632585,1000000,\"Intern\")"
   ]
  },
  {
   "cell_type": "code",
   "execution_count": 34,
   "id": "1ae2f3b3-6330-4255-b8f3-8b789294cae7",
   "metadata": {},
   "outputs": [
    {
     "name": "stdout",
     "output_type": "stream",
     "text": [
      "1000000\n",
      "Intern\n",
      "Sahil\n",
      "1245632585\n"
     ]
    }
   ],
   "source": [
    "Employee1.display()"
   ]
  },
  {
   "cell_type": "code",
   "execution_count": 47,
   "id": "d1784642-eb72-47d9-b7bc-f1588adf2250",
   "metadata": {},
   "outputs": [],
   "source": [
    "class animal():\n",
    "    def __init__(collar,treat, favourite_food)   :\n",
    "        pass       #parent or base class\n",
    "    "
   ]
  },
  {
   "cell_type": "code",
   "execution_count": 38,
   "id": "b1c80510-ceea-4322-817d-07b0bd85d0b7",
   "metadata": {},
   "outputs": [],
   "source": [
    "class dog(animal):   #child classes\n",
    "    pass"
   ]
  },
  {
   "cell_type": "code",
   "execution_count": 41,
   "id": "459d43e4-9c23-4bef-ad4e-d9bd5ffad620",
   "metadata": {},
   "outputs": [],
   "source": [
    "class cat(animal):\n",
    "    pass"
   ]
  },
  {
   "cell_type": "code",
   "execution_count": 45,
   "id": "2e8afb4c-c76d-4721-ac07-f655d3780c2e",
   "metadata": {},
   "outputs": [],
   "source": [
    "class human():\n",
    "    def __init__(name,age):\n",
    "        self.name = name\n",
    "        self.age= age"
   ]
  },
  {
   "cell_type": "code",
   "execution_count": 44,
   "id": "a2b10f5e-0dc0-4dee-9ecb-5452906b1c1d",
   "metadata": {},
   "outputs": [],
   "source": [
    "class family(human,animal):\n",
    "    def __init__(name, age,favourite_food,relation):\n",
    "        self.realtion=relation\n",
    "        human.__init__(name,age)\n",
    "        \n",
    "        \n",
    "        "
   ]
  },
  {
   "cell_type": "code",
   "execution_count": 48,
   "id": "90c83288-b1f6-46b5-ab3e-85b0a681d087",
   "metadata": {},
   "outputs": [],
   "source": [
    "# Polymorphism"
   ]
  },
  {
   "cell_type": "code",
   "execution_count": 49,
   "id": "ee854aca-9d06-4b95-a8a6-091ca81dab72",
   "metadata": {},
   "outputs": [],
   "source": [
    "class fish():\n",
    "    def flight(self):\n",
    "        print(\"a fish cannot fly\")\n"
   ]
  },
  {
   "cell_type": "code",
   "execution_count": 50,
   "id": "554b7fb9-f461-4ad2-8097-148b646f74e4",
   "metadata": {},
   "outputs": [],
   "source": [
    "fish1=fish()"
   ]
  },
  {
   "cell_type": "code",
   "execution_count": 51,
   "id": "8e2c498e-df16-4c07-b146-91b2e3e940ee",
   "metadata": {},
   "outputs": [
    {
     "name": "stdout",
     "output_type": "stream",
     "text": [
      "a fish cannot fly\n"
     ]
    }
   ],
   "source": [
    "fish1.flight()"
   ]
  },
  {
   "cell_type": "code",
   "execution_count": 52,
   "id": "20528b0f-7c22-490c-8568-b3b6f574b462",
   "metadata": {},
   "outputs": [],
   "source": [
    "class bird():\n",
    "    def flight(self):\n",
    "        print(\"a bird can fly\")"
   ]
  },
  {
   "cell_type": "code",
   "execution_count": 53,
   "id": "588a2bfc-1e9f-457f-9452-b89c74d51320",
   "metadata": {},
   "outputs": [],
   "source": [
    "bird1= bird()"
   ]
  },
  {
   "cell_type": "code",
   "execution_count": 54,
   "id": "0e35c94c-5b8b-419e-8321-16eb559f8eca",
   "metadata": {},
   "outputs": [
    {
     "name": "stdout",
     "output_type": "stream",
     "text": [
      "a bird can fly\n"
     ]
    }
   ],
   "source": [
    "bird1.flight()"
   ]
  },
  {
   "cell_type": "code",
   "execution_count": 55,
   "id": "2e5bc6ec-bab6-484a-ba5e-88cb2504a840",
   "metadata": {},
   "outputs": [],
   "source": [
    "class humans1():\n",
    "    def flight(self):\n",
    "        print(\"humans can fly but only in planes\")"
   ]
  },
  {
   "cell_type": "code",
   "execution_count": 56,
   "id": "1dbf6500-e48a-443b-9932-dd3769ec9126",
   "metadata": {},
   "outputs": [],
   "source": [
    "human2=humans1()\n"
   ]
  },
  {
   "cell_type": "code",
   "execution_count": 57,
   "id": "72d5f09e-e41e-4e2b-a324-80396d922ed6",
   "metadata": {},
   "outputs": [
    {
     "name": "stdout",
     "output_type": "stream",
     "text": [
      "humans can fly but only in planes\n"
     ]
    }
   ],
   "source": [
    "human2.flight()"
   ]
  },
  {
   "cell_type": "code",
   "execution_count": 64,
   "id": "36ccd8bb-14f2-41ae-bc0a-d30b2c45e0e2",
   "metadata": {},
   "outputs": [],
   "source": [
    "def base_class():\n",
    "    def __init__(self):\n",
    "        self.a=\"hello\"      #public , private\n",
    "        self.__c=\"private_hello\"\n",
    "        "
   ]
  },
  {
   "cell_type": "code",
   "execution_count": 59,
   "id": "723c34b4-f8bf-4949-8397-742f7f25c4d7",
   "metadata": {},
   "outputs": [],
   "source": [
    "def child_class(base_class):\n",
    "    def __init__(self):\n",
    "        base_class.__init__(self)"
   ]
  },
  {
   "cell_type": "code",
   "execution_count": 60,
   "id": "dc99791d-e54e-4ef3-94c3-36b8f363f554",
   "metadata": {},
   "outputs": [],
   "source": [
    "base1=base_class()"
   ]
  },
  {
   "cell_type": "code",
   "execution_count": 66,
   "id": "9d09eccd-95f3-4857-afe1-648b3a05b5cc",
   "metadata": {},
   "outputs": [],
   "source": [
    "# print(base1.a)"
   ]
  },
  {
   "cell_type": "code",
   "execution_count": 70,
   "id": "c583fc6d-2ac1-43df-b7bd-66ae9dde5b8d",
   "metadata": {},
   "outputs": [],
   "source": [
    "# class circle\n",
    "# radius\n",
    "# area\n",
    "# perimeter\n",
    "\n",
    "class Circle():\n",
    "    def __init__(self,r):\n",
    "        self.r=r\n",
    "    def area(self):\n",
    "        return self.r*self.r*3.14\n",
    "    def perimeter(self):\n",
    "        return 2*self.r*3.14\n",
    "    "
   ]
  },
  {
   "cell_type": "code",
   "execution_count": 71,
   "id": "378ba3f5-9974-4e8c-8987-bb3f88b4c87d",
   "metadata": {},
   "outputs": [],
   "source": [
    "# class bankaccount\n",
    "# name, balance\n",
    "# diposit\n",
    "# withdraw\n",
    "\n"
   ]
  },
  {
   "cell_type": "code",
   "execution_count": 74,
   "id": "d1c2a499-a88c-48bf-a43d-e21585d03f85",
   "metadata": {},
   "outputs": [],
   "source": [
    "class BankAccount():\n",
    "    def __init__(self,number,balance):\n",
    "        self.number=number\n",
    "        self.balance=balance\n",
    "    def display(self):\n",
    "        print(self.balance)\n",
    "    def deposit(self,amount):\n",
    "        self.balance+=amount\n",
    "    def withdraw(self,amount):\n",
    "        if amount<=self.balance:\n",
    "            self.balance-=amount\n",
    "            print(\"Transaction Successful\")\n",
    "        else:\n",
    "            print(\"Not enough money\")"
   ]
  },
  {
   "cell_type": "code",
   "execution_count": 75,
   "id": "cf8b1d25-9a97-49a4-91c3-5e121a7edbb8",
   "metadata": {},
   "outputs": [],
   "source": [
    "person1=BankAccount(\"12345\",1000000)"
   ]
  },
  {
   "cell_type": "code",
   "execution_count": 76,
   "id": "fbbee590-9e54-4275-9e99-93af3d91d2f3",
   "metadata": {},
   "outputs": [
    {
     "name": "stdout",
     "output_type": "stream",
     "text": [
      "1000000\n"
     ]
    }
   ],
   "source": [
    "person1.display()"
   ]
  },
  {
   "cell_type": "code",
   "execution_count": 77,
   "id": "b80292c3-cd72-4479-82b2-c4058bef0b73",
   "metadata": {},
   "outputs": [],
   "source": [
    "person1.deposit(1000)"
   ]
  },
  {
   "cell_type": "code",
   "execution_count": 83,
   "id": "9cf62510-87d5-41a7-a87f-a8688ea3a603",
   "metadata": {},
   "outputs": [
    {
     "name": "stdout",
     "output_type": "stream",
     "text": [
      "791000\n"
     ]
    }
   ],
   "source": [
    "person1.display()"
   ]
  },
  {
   "cell_type": "code",
   "execution_count": 84,
   "id": "002f7c53-2c25-46b6-890c-129ad96cb488",
   "metadata": {},
   "outputs": [
    {
     "name": "stdout",
     "output_type": "stream",
     "text": [
      "Not enough money\n"
     ]
    }
   ],
   "source": [
    "person1.withdraw(1000000)"
   ]
  },
  {
   "cell_type": "code",
   "execution_count": null,
   "id": "ad51b34f-3f61-4885-808e-e6fc4b0116a8",
   "metadata": {},
   "outputs": [],
   "source": []
  }
 ],
 "metadata": {
  "kernelspec": {
   "display_name": "Python 3 (ipykernel)",
   "language": "python",
   "name": "python3"
  },
  "language_info": {
   "codemirror_mode": {
    "name": "ipython",
    "version": 3
   },
   "file_extension": ".py",
   "mimetype": "text/x-python",
   "name": "python",
   "nbconvert_exporter": "python",
   "pygments_lexer": "ipython3",
   "version": "3.11.5"
  }
 },
 "nbformat": 4,
 "nbformat_minor": 5
}
