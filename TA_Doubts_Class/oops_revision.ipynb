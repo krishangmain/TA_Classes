{
 "cells": [
  {
   "cell_type": "markdown",
   "id": "a3f199c7-f0b5-4412-a8ee-fbd8e3196a24",
   "metadata": {},
   "source": [
    "OOPS REVISION"
   ]
  },
  {
   "cell_type": "code",
   "execution_count": 1,
   "id": "d26f3a55-993d-43f3-a9b3-2143f908d7b6",
   "metadata": {},
   "outputs": [],
   "source": [
    "#class rectangle , attributes length width , methods area and perimeter "
   ]
  },
  {
   "cell_type": "code",
   "execution_count": 11,
   "id": "f4988bc7-bb63-4fe6-adab-d77fe2d56e6f",
   "metadata": {},
   "outputs": [
    {
     "name": "stdout",
     "output_type": "stream",
     "text": [
      "Area: 63\n",
      "Perimeter:  32\n"
     ]
    }
   ],
   "source": [
    "class rectangle:\n",
    "    def __init__(self, length , width):\n",
    "        self.length = length\n",
    "        self.width=width\n",
    "    def area(self):\n",
    "        return self.length*self.width\n",
    "    def perimeter(self):\n",
    "        return 2*(self.length + self.width)\n",
    "\n",
    "\n",
    "obj1=rectangle(9,7)\n",
    "print(\"Area:\", obj1.area())\n",
    "print(\"Perimeter: \",obj1.perimeter())"
   ]
  },
  {
   "cell_type": "code",
   "execution_count": 12,
   "id": "d55e5033-ff54-47f8-8ca4-ae51046bbf2b",
   "metadata": {},
   "outputs": [],
   "source": [
    "#class employee , attributes name salary position , method bonus normal 10% and if he is a manager then 20% salary"
   ]
  },
  {
   "cell_type": "code",
   "execution_count": 13,
   "id": "75952bb9-14e2-4472-944a-04fb93986661",
   "metadata": {},
   "outputs": [
    {
     "name": "stdout",
     "output_type": "stream",
     "text": [
      "bonus for Krishang 20000000.0\n",
      "bonus for Ayush 1003040.5\n",
      "bonus for Rahul 12345543.4\n"
     ]
    }
   ],
   "source": [
    "class Employee:\n",
    "    def __init__(self,name, position,salary):\n",
    "        self.name=name\n",
    "        self.position=position\n",
    "        self.salary=salary\n",
    "    def calculate_bonus(self):\n",
    "        if self.position ==\"Manager\":\n",
    "            return self.salary*0.2\n",
    "        else:\n",
    "            return self.salary*0.1\n",
    "    \n",
    "\n",
    "employee1= Employee(\"Krishang\",\"Manager\",100000000)\n",
    "employee2=Employee(\"Ayush\",\"Developer\",10030405)\n",
    "employee3=Employee(\"Rahul\",\"Data Scientist\",123455434)\n",
    "\n",
    "\n",
    "print(\"bonus for\",employee1.name, employee1.calculate_bonus())\n",
    "print(\"bonus for\",employee2.name, employee2.calculate_bonus())\n",
    "print(\"bonus for\",employee3.name, employee3.calculate_bonus())\n"
   ]
  },
  {
   "cell_type": "code",
   "execution_count": 14,
   "id": "7180a9b0-5a95-4bfd-bcf6-aa4d957f76b5",
   "metadata": {},
   "outputs": [],
   "source": [
    "#class stack, list , methonds isempty(whether stask is empty or not), push(to insert an element in the stack), pop(to take an element out of the stack)\n",
    "#peekt what is the top element "
   ]
  },
  {
   "cell_type": "code",
   "execution_count": 27,
   "id": "f1a59fba-ce52-4260-9bc0-f3ef3f69041a",
   "metadata": {},
   "outputs": [
    {
     "name": "stdout",
     "output_type": "stream",
     "text": [
      "peek 3\n",
      "pop 3\n",
      "empty False\n"
     ]
    },
    {
     "data": {
      "text/plain": [
       "1"
      ]
     },
     "execution_count": 27,
     "metadata": {},
     "output_type": "execute_result"
    }
   ],
   "source": [
    "class Stack:\n",
    "    def __init__(self,):\n",
    "        self.items=[]\n",
    "    def is_empty(self):\n",
    "        return len(self.items)==0\n",
    "    def push(self, item):\n",
    "        self.items.append(item)\n",
    "    def pop(self):\n",
    "        if self.is_empty()==True:\n",
    "            return\n",
    "        else:\n",
    "            return self.items.pop()\n",
    "    def peek(self):\n",
    "         if self.is_empty()==True:\n",
    "            return\n",
    "         else:\n",
    "            return self.items[-1]\n",
    "    \n",
    "        \n",
    "\n",
    "s1=Stack()\n",
    "s1.push(1)\n",
    "s1.push(2)\n",
    "s1.push(3)\n",
    "\n",
    "print(\"peek\",s1.peek())\n",
    "print(\"pop\",s1.pop())\n",
    "print(\"empty\",s1.is_empty())\n",
    "\n",
    "s1.pop()\n",
    "s1.pop()"
   ]
  },
  {
   "cell_type": "code",
   "execution_count": 28,
   "id": "819188f6-7862-4453-b01d-ca5610bc87e4",
   "metadata": {},
   "outputs": [],
   "source": [
    "#class vector , attributes icap, jcap,kcap , methods dotproduct and crossproduct , x,y,z \n",
    "# def dot_product(self,other_vector)\n",
    "# v1=(1,2,3)\n",
    "# v2=(4,5,6)\n",
    "# v1.dotproduct(v2)"
   ]
  },
  {
   "cell_type": "code",
   "execution_count": null,
   "id": "93c6590b-9af3-4a13-aaca-2068d8f9c093",
   "metadata": {},
   "outputs": [],
   "source": [
    "# (bz – cy)i – (az – cx)j + (ay – bx)k = (bz – cy)i + (cx – az)j + (ay – bx)k"
   ]
  },
  {
   "cell_type": "code",
   "execution_count": null,
   "id": "64c760bf-f2f5-4451-b521-509dd88b1be3",
   "metadata": {},
   "outputs": [],
   "source": []
  },
  {
   "cell_type": "code",
   "execution_count": null,
   "id": "231f7cec-a698-4b8d-8e96-a383cda7a20f",
   "metadata": {},
   "outputs": [],
   "source": []
  },
  {
   "cell_type": "code",
   "execution_count": null,
   "id": "634771aa-e2f8-4f80-afec-218891539030",
   "metadata": {},
   "outputs": [],
   "source": []
  },
  {
   "cell_type": "code",
   "execution_count": null,
   "id": "00dbae5d-459d-42c1-8ec4-d7d200a7a499",
   "metadata": {},
   "outputs": [],
   "source": []
  },
  {
   "cell_type": "code",
   "execution_count": null,
   "id": "c4352064-351f-42f9-9b91-11a8d1f36526",
   "metadata": {},
   "outputs": [],
   "source": []
  },
  {
   "cell_type": "code",
   "execution_count": null,
   "id": "ac4872a3-33c7-407e-8941-2d1b2c65819b",
   "metadata": {},
   "outputs": [],
   "source": []
  },
  {
   "cell_type": "code",
   "execution_count": null,
   "id": "115328c8-e79b-413f-a062-8e6823f9c133",
   "metadata": {},
   "outputs": [],
   "source": []
  },
  {
   "cell_type": "code",
   "execution_count": null,
   "id": "83415b6f-b143-44a3-bb0b-fe81bf353f94",
   "metadata": {},
   "outputs": [],
   "source": []
  },
  {
   "cell_type": "code",
   "execution_count": null,
   "id": "03ec574e-e9ca-4933-aee4-abafd211d055",
   "metadata": {},
   "outputs": [],
   "source": [
    "print(\"empty\",s1.is_empty())\n",
    "\n"
   ]
  }
 ],
 "metadata": {
  "kernelspec": {
   "display_name": "Python 3 (ipykernel)",
   "language": "python",
   "name": "python3"
  },
  "language_info": {
   "codemirror_mode": {
    "name": "ipython",
    "version": 3
   },
   "file_extension": ".py",
   "mimetype": "text/x-python",
   "name": "python",
   "nbconvert_exporter": "python",
   "pygments_lexer": "ipython3",
   "version": "3.11.5"
  }
 },
 "nbformat": 4,
 "nbformat_minor": 5
}
