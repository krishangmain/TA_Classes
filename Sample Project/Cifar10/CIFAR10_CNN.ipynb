{
 "cells": [
  {
   "cell_type": "code",
   "execution_count": 1,
   "id": "268b4aa5-80a2-482d-b808-d5acc4c087ca",
   "metadata": {},
   "outputs": [],
   "source": [
    "import tensorflow as tf\n",
    "import numpy as np \n",
    "import matplotlib.pyplot as plt\n",
    "\n"
   ]
  },
  {
   "cell_type": "code",
   "execution_count": 2,
   "id": "a12adeeb-52d9-4e08-b42b-2b06284a6c17",
   "metadata": {},
   "outputs": [],
   "source": [
    "cifar=tf.keras.datasets.cifar10"
   ]
  },
  {
   "cell_type": "code",
   "execution_count": 3,
   "id": "284104de-dad8-477d-8697-c2989e2b407c",
   "metadata": {},
   "outputs": [],
   "source": [
    "(training_data, training_Labels ),(testing_data, testing_labels)=cifar.load_data()"
   ]
  },
  {
   "cell_type": "code",
   "execution_count": 4,
   "id": "403f363f-7330-4dd1-9ca0-b1e5f1370875",
   "metadata": {},
   "outputs": [],
   "source": [
    "classes=['airplane','automobile','bird','cat','deer','dog','frog','horse','ship','truck']"
   ]
  },
  {
   "cell_type": "code",
   "execution_count": 5,
   "id": "d827958b-5505-4b70-b7d0-97fbdc0044c1",
   "metadata": {},
   "outputs": [
    {
     "data": {
      "text/plain": [
       "['airplane',\n",
       " 'automobile',\n",
       " 'bird',\n",
       " 'cat',\n",
       " 'deer',\n",
       " 'dog',\n",
       " 'frog',\n",
       " 'horse',\n",
       " 'ship',\n",
       " 'truck']"
      ]
     },
     "execution_count": 5,
     "metadata": {},
     "output_type": "execute_result"
    }
   ],
   "source": [
    "classes"
   ]
  },
  {
   "cell_type": "code",
   "execution_count": 6,
   "id": "94172668-4103-4661-bc8f-0293129f96f4",
   "metadata": {},
   "outputs": [
    {
     "data": {
      "text/plain": [
       "(50000, 32, 32, 3)"
      ]
     },
     "execution_count": 6,
     "metadata": {},
     "output_type": "execute_result"
    }
   ],
   "source": [
    "training_data.shape"
   ]
  },
  {
   "cell_type": "code",
   "execution_count": 7,
   "id": "e67ff237-b629-44db-bce0-6eefa34ed05b",
   "metadata": {},
   "outputs": [
    {
     "data": {
      "text/plain": [
       "(50000, 1)"
      ]
     },
     "execution_count": 7,
     "metadata": {},
     "output_type": "execute_result"
    }
   ],
   "source": [
    "training_Labels.shape"
   ]
  },
  {
   "cell_type": "code",
   "execution_count": 8,
   "id": "8bd04c58-4fd9-4226-bc11-569a82f93a6a",
   "metadata": {},
   "outputs": [],
   "source": [
    "training_data=training_data/255.0\n",
    "testing_data=testing_data/255.0"
   ]
  },
  {
   "cell_type": "code",
   "execution_count": 9,
   "id": "7c3c9a9b-4aa1-45c1-851a-9f79334a7116",
   "metadata": {},
   "outputs": [],
   "source": [
    "model=tf.keras.Sequential([\n",
    "    tf.keras.layers.Conv2D(128,(3,3),activation='relu',input_shape=(32, 32, 3)),\n",
    "    tf.keras.layers.MaxPooling2D(2,2),\n",
    "    tf.keras.layers.Conv2D(64,(3,3),activation='relu'),\n",
    "    tf.keras.layers.MaxPooling2D(2,2),\n",
    "    tf.keras.layers.Flatten(),\n",
    "    tf.keras.layers.Dense(32,activation='relu'),\n",
    "    tf.keras.layers.Dense(10,activation='softmax'),\n",
    "    \n",
    "])"
   ]
  },
  {
   "cell_type": "code",
   "execution_count": 10,
   "id": "aa5e7a2f-474d-497a-9a5c-730523639531",
   "metadata": {},
   "outputs": [],
   "source": [
    "model.compile(optimizer='adam',loss='sparse_categorical_crossentropy',metrics=['accuracy'])"
   ]
  },
  {
   "cell_type": "code",
   "execution_count": 11,
   "id": "23a7433f-c0a0-422f-90eb-12505f11eba6",
   "metadata": {},
   "outputs": [
    {
     "name": "stdout",
     "output_type": "stream",
     "text": [
      "Epoch 1/15\n",
      "1563/1563 [==============================] - 46s 29ms/step - loss: 1.5673 - accuracy: 0.4326\n",
      "Epoch 2/15\n",
      "1563/1563 [==============================] - 44s 28ms/step - loss: 1.2281 - accuracy: 0.5633\n",
      "Epoch 3/15\n",
      "1563/1563 [==============================] - 45s 29ms/step - loss: 1.1008 - accuracy: 0.6118\n",
      "Epoch 4/15\n",
      "1563/1563 [==============================] - 47s 30ms/step - loss: 1.0383 - accuracy: 0.6358\n",
      "Epoch 5/15\n",
      "1563/1563 [==============================] - 47s 30ms/step - loss: 0.9794 - accuracy: 0.6559\n",
      "Epoch 6/15\n",
      "1563/1563 [==============================] - 46s 29ms/step - loss: 0.9474 - accuracy: 0.6704\n",
      "Epoch 7/15\n",
      "1563/1563 [==============================] - 44s 28ms/step - loss: 0.9105 - accuracy: 0.6822\n",
      "Epoch 8/15\n",
      "1563/1563 [==============================] - 44s 28ms/step - loss: 0.8831 - accuracy: 0.6909\n",
      "Epoch 9/15\n",
      "1563/1563 [==============================] - 44s 28ms/step - loss: 0.8669 - accuracy: 0.6968\n",
      "Epoch 10/15\n",
      "1563/1563 [==============================] - 44s 28ms/step - loss: 0.8433 - accuracy: 0.7056\n",
      "Epoch 11/15\n",
      "1563/1563 [==============================] - 45s 29ms/step - loss: 0.8228 - accuracy: 0.7140\n",
      "Epoch 12/15\n",
      "1563/1563 [==============================] - 47s 30ms/step - loss: 0.8069 - accuracy: 0.7188\n",
      "Epoch 13/15\n",
      "1563/1563 [==============================] - 48s 31ms/step - loss: 0.7869 - accuracy: 0.7233\n",
      "Epoch 14/15\n",
      "1563/1563 [==============================] - 47s 30ms/step - loss: 0.7705 - accuracy: 0.7309\n",
      "Epoch 15/15\n",
      "1563/1563 [==============================] - 47s 30ms/step - loss: 0.7563 - accuracy: 0.7366\n"
     ]
    },
    {
     "data": {
      "text/plain": [
       "<keras.src.callbacks.History at 0x1eb3d654cd0>"
      ]
     },
     "execution_count": 11,
     "metadata": {},
     "output_type": "execute_result"
    }
   ],
   "source": [
    "model.fit(training_data,training_Labels,epochs=15)"
   ]
  },
  {
   "cell_type": "code",
   "execution_count": 47,
   "id": "178c9216-7de9-44f4-a6e5-09ae0113e2cc",
   "metadata": {},
   "outputs": [],
   "source": [
    "# from keras.models import load_model\n",
    "# model.save(\"cifar_ann.h5\")\n",
    "# new_model=load_model(\"cifar_ann.h5\")\n",
    "\n",
    "# code for saving and using model without running the file again and again in jupyter\n",
    "#pickle file"
   ]
  },
  {
   "cell_type": "code",
   "execution_count": null,
   "id": "8f84fa01-9a24-4403-9028-a0acea176b00",
   "metadata": {},
   "outputs": [],
   "source": []
  },
  {
   "cell_type": "code",
   "execution_count": 16,
   "id": "3f98d232-1556-4569-92df-a34ca5646c40",
   "metadata": {},
   "outputs": [
    {
     "name": "stdout",
     "output_type": "stream",
     "text": [
      "313/313 [==============================] - 3s 8ms/step - loss: 0.8928 - accuracy: 0.6971\n"
     ]
    }
   ],
   "source": [
    "test_loss, test_accuraccy = model.evaluate(testing_data, testing_labels)"
   ]
  },
  {
   "cell_type": "code",
   "execution_count": 18,
   "id": "9c32bb6d-5ec2-4053-8d3f-824c2e8412fb",
   "metadata": {},
   "outputs": [
    {
     "data": {
      "text/plain": [
       "(0.6970999836921692, 0.8927804827690125)"
      ]
     },
     "execution_count": 18,
     "metadata": {},
     "output_type": "execute_result"
    }
   ],
   "source": [
    "test_accuraccy, test_loss"
   ]
  },
  {
   "cell_type": "code",
   "execution_count": 19,
   "id": "d7e3f864-5f36-422b-881c-a3a534a2d6d8",
   "metadata": {},
   "outputs": [
    {
     "name": "stdout",
     "output_type": "stream",
     "text": [
      "313/313 [==============================] - 3s 9ms/step\n"
     ]
    }
   ],
   "source": [
    "predictions=model.predict(testing_data)  #testing_labels"
   ]
  },
  {
   "cell_type": "code",
   "execution_count": 20,
   "id": "7fff99a5-f87a-4c5e-bcdd-07ebb45f51f8",
   "metadata": {},
   "outputs": [
    {
     "data": {
      "text/plain": [
       "'dog'"
      ]
     },
     "execution_count": 20,
     "metadata": {},
     "output_type": "execute_result"
    }
   ],
   "source": [
    "classes[testing_labels[31][0]]"
   ]
  },
  {
   "cell_type": "code",
   "execution_count": 21,
   "id": "8297ef34-3971-4459-8577-f20e64adc50f",
   "metadata": {},
   "outputs": [
    {
     "data": {
      "text/plain": [
       "'dog'"
      ]
     },
     "execution_count": 21,
     "metadata": {},
     "output_type": "execute_result"
    }
   ],
   "source": [
    "classes[np.argmax(predictions[31])]"
   ]
  },
  {
   "cell_type": "code",
   "execution_count": null,
   "id": "b4caafad-06f6-4fbd-9f39-bd82d96292d4",
   "metadata": {},
   "outputs": [],
   "source": []
  },
  {
   "cell_type": "code",
   "execution_count": null,
   "id": "0046bfe7-1019-4af7-ab98-bff5fd183645",
   "metadata": {},
   "outputs": [],
   "source": []
  }
 ],
 "metadata": {
  "kernelspec": {
   "display_name": "Python 3 (ipykernel)",
   "language": "python",
   "name": "python3"
  },
  "language_info": {
   "codemirror_mode": {
    "name": "ipython",
    "version": 3
   },
   "file_extension": ".py",
   "mimetype": "text/x-python",
   "name": "python",
   "nbconvert_exporter": "python",
   "pygments_lexer": "ipython3",
   "version": "3.11.5"
  }
 },
 "nbformat": 4,
 "nbformat_minor": 5
}
