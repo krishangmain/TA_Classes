{
 "cells": [
  {
   "cell_type": "code",
   "execution_count": null,
   "id": "15724533-108c-4cb3-bf1e-462da0bb1c12",
   "metadata": {},
   "outputs": [],
   "source": [
    "import matplotlib.pyplot as plt\n",
    "import tensorflow as tf\n",
    "import numpy as np   #libraries imported\n",
    "\n",
    "cifar= tf.keras.datasets.cifar10    #data import \n",
    "\n",
    "(training_data, training_labels),(testing_data, testing_labels)=cifar.load_data()  #data ko divide karra hai in training and testing\n",
    "\n",
    "# training_data\n",
    "\n",
    "classes=['airplane','automobile','bird','cat','deer','dog','frog','horse','ship','truck']"
   ]
  },
  {
   "cell_type": "code",
   "execution_count": 10,
   "id": "9b384d64-1bb6-46ab-a889-79d99dc25813",
   "metadata": {},
   "outputs": [
    {
     "data": {
      "text/plain": [
       "['airplane',\n",
       " 'automobile',\n",
       " 'bird',\n",
       " 'cat',\n",
       " 'deer',\n",
       " 'dog',\n",
       " 'frog',\n",
       " 'horse',\n",
       " 'ship',\n",
       " 'truck']"
      ]
     },
     "execution_count": 10,
     "metadata": {},
     "output_type": "execute_result"
    }
   ],
   "source": [
    "classes"
   ]
  },
  {
   "cell_type": "code",
   "execution_count": 14,
   "id": "a74a618c-0020-44e1-8192-eb384cd0e845",
   "metadata": {},
   "outputs": [
    {
     "data": {
      "text/plain": [
       "(50000, 32, 32, 3)"
      ]
     },
     "execution_count": 14,
     "metadata": {},
     "output_type": "execute_result"
    }
   ],
   "source": [
    "training_data.shape   # to check the number of images and to identify the shape of each image"
   ]
  },
  {
   "cell_type": "code",
   "execution_count": 15,
   "id": "6d83908e-cad1-4209-8376-d1113153890e",
   "metadata": {},
   "outputs": [
    {
     "data": {
      "text/plain": [
       "(50000, 1)"
      ]
     },
     "execution_count": 15,
     "metadata": {},
     "output_type": "execute_result"
    }
   ],
   "source": [
    "training_labels.shape   # to verify the number of images given "
   ]
  },
  {
   "cell_type": "code",
   "execution_count": 17,
   "id": "d49e9493-b6fd-4bb1-a985-d0e5617b2129",
   "metadata": {},
   "outputs": [],
   "source": [
    "#normalization\n",
    "training_data=training_data/255.0\n",
    "testing_data=testing_data/255.0    \n",
    "#to scale them down between 0 and 1 , to ensure \n",
    "# that vanishing and exploding gradient problems do not occur"
   ]
  },
  {
   "cell_type": "code",
   "execution_count": 19,
   "id": "d5183ce4-a3de-4d48-9d3b-42b874d9e22f",
   "metadata": {},
   "outputs": [],
   "source": [
    "model=tf.keras.Sequential([\n",
    "    tf.keras.layers.Conv2D(128,(3,3),activation='relu',input_shape=(32, 32, 3)),\n",
    "    tf.keras.layers.MaxPooling2D(2,2),\n",
    "    tf.keras.layers.Conv2D(64,(3,3),activation='relu'),\n",
    "    tf.keras.layers.MaxPooling2D(2,2),\n",
    "    tf.keras.layers.Flatten(),\n",
    "    tf.keras.layers.Dense(32,activation='relu'),\n",
    "    tf.keras.layers.Dense(10,activation='softmax')    \n",
    "])"
   ]
  },
  {
   "cell_type": "code",
   "execution_count": 21,
   "id": "99c45536-22c2-46f2-bfef-ad9aff96d364",
   "metadata": {},
   "outputs": [],
   "source": [
    "#architecture, compilation, fit"
   ]
  },
  {
   "cell_type": "code",
   "execution_count": 22,
   "id": "7a3fef33-1f1f-422d-a023-2662cada70bf",
   "metadata": {},
   "outputs": [],
   "source": [
    "model.compile(optimizer='adam',loss='sparse_categorical_crossentropy',metrics=['accuracy'])"
   ]
  },
  {
   "cell_type": "code",
   "execution_count": 23,
   "id": "5030e3ea-0d40-476f-ae2f-d0f1c6bb11a0",
   "metadata": {},
   "outputs": [
    {
     "name": "stdout",
     "output_type": "stream",
     "text": [
      "Epoch 1/15\n",
      "1563/1563 [==============================] - 47s 30ms/step - loss: 1.5718 - accuracy: 0.4314\n",
      "Epoch 2/15\n",
      "1563/1563 [==============================] - 45s 29ms/step - loss: 1.1997 - accuracy: 0.5750\n",
      "Epoch 3/15\n",
      "1563/1563 [==============================] - 46s 30ms/step - loss: 1.0675 - accuracy: 0.6270\n",
      "Epoch 4/15\n",
      "1563/1563 [==============================] - 46s 30ms/step - loss: 0.9880 - accuracy: 0.6553\n",
      "Epoch 5/15\n",
      "1563/1563 [==============================] - 46s 29ms/step - loss: 0.9267 - accuracy: 0.6764\n",
      "Epoch 6/15\n",
      "1563/1563 [==============================] - 46s 29ms/step - loss: 0.8858 - accuracy: 0.6908\n",
      "Epoch 7/15\n",
      "1563/1563 [==============================] - 46s 29ms/step - loss: 0.8521 - accuracy: 0.7062\n",
      "Epoch 8/15\n",
      "1563/1563 [==============================] - 49s 31ms/step - loss: 0.8179 - accuracy: 0.7169\n",
      "Epoch 9/15\n",
      "1563/1563 [==============================] - 47s 30ms/step - loss: 0.7945 - accuracy: 0.7245\n",
      "Epoch 10/15\n",
      "1563/1563 [==============================] - 46s 30ms/step - loss: 0.7716 - accuracy: 0.7326\n",
      "Epoch 11/15\n",
      "1563/1563 [==============================] - 46s 29ms/step - loss: 0.7511 - accuracy: 0.7388\n",
      "Epoch 12/15\n",
      "1563/1563 [==============================] - 47s 30ms/step - loss: 0.7292 - accuracy: 0.7455\n",
      "Epoch 13/15\n",
      "1563/1563 [==============================] - 46s 29ms/step - loss: 0.7064 - accuracy: 0.7539\n",
      "Epoch 14/15\n",
      "1563/1563 [==============================] - 46s 29ms/step - loss: 0.6883 - accuracy: 0.7599\n",
      "Epoch 15/15\n",
      "1563/1563 [==============================] - 46s 30ms/step - loss: 0.6732 - accuracy: 0.7648\n"
     ]
    },
    {
     "data": {
      "text/plain": [
       "<keras.src.callbacks.History at 0x180c54f2550>"
      ]
     },
     "execution_count": 23,
     "metadata": {},
     "output_type": "execute_result"
    }
   ],
   "source": [
    "model.fit(training_data,training_labels,epochs=15)"
   ]
  },
  {
   "cell_type": "code",
   "execution_count": 24,
   "id": "99afdb71-7243-4098-b1c9-2e37479f2e6b",
   "metadata": {},
   "outputs": [
    {
     "name": "stdout",
     "output_type": "stream",
     "text": [
      "313/313 [==============================] - 3s 9ms/step - loss: 0.9833 - accuracy: 0.6777\n"
     ]
    }
   ],
   "source": [
    "test_loss,test_accuracy=model.evaluate(testing_data,testing_labels)"
   ]
  },
  {
   "cell_type": "code",
   "execution_count": 33,
   "id": "e29c2fc0-7104-418f-bcb7-0fb931938905",
   "metadata": {},
   "outputs": [
    {
     "data": {
      "text/plain": [
       "<matplotlib.image.AxesImage at 0x180c68cbf50>"
      ]
     },
     "execution_count": 33,
     "metadata": {},
     "output_type": "execute_result"
    },
    {
     "data": {
      "image/png": "[encoded data removed]",
      "text/plain": [
       "<Figure size 640x480 with 1 Axes>"
      ]
     },
     "metadata": {},
     "output_type": "display_data"
    }
   ],
   "source": [
    "plt.imshow(testing_data[31])"
   ]
  },
  {
   "cell_type": "code",
   "execution_count": 34,
   "id": "1cdd4173-3488-4d1b-8cf8-b91d797e44cb",
   "metadata": {},
   "outputs": [
    {
     "name": "stdout",
     "output_type": "stream",
     "text": [
      "313/313 [==============================] - 3s 9ms/step\n"
     ]
    }
   ],
   "source": [
    "predictions=model.predict(testing_data)"
   ]
  },
  {
   "cell_type": "code",
   "execution_count": 36,
   "id": "28e28b96-da9f-46b7-b735-5e74cbdbf7f5",
   "metadata": {},
   "outputs": [
    {
     "data": {
      "text/plain": [
       "array([5.7596958e-04, 2.3453627e-04, 2.1368809e-01, 2.0684652e-01,\n",
       "       1.6299118e-01, 3.8057327e-01, 1.0014663e-02, 2.3291538e-02,\n",
       "       4.8156496e-04, 1.3026855e-03], dtype=float32)"
      ]
     },
     "execution_count": 36,
     "metadata": {},
     "output_type": "execute_result"
    }
   ],
   "source": [
    "predictions[31]"
   ]
  },
  {
   "cell_type": "code",
   "execution_count": 37,
   "id": "1fcecf2c-760b-4490-9ec3-a5e3301a01f6",
   "metadata": {},
   "outputs": [
    {
     "data": {
      "text/plain": [
       "5"
      ]
     },
     "execution_count": 37,
     "metadata": {},
     "output_type": "execute_result"
    }
   ],
   "source": [
    "np.argmax(predictions[31])"
   ]
  },
  {
   "cell_type": "code",
   "execution_count": 38,
   "id": "b84d94f6-5b39-4f38-8c73-6735fe6e5bfe",
   "metadata": {},
   "outputs": [
    {
     "data": {
      "text/plain": [
       "'dog'"
      ]
     },
     "execution_count": 38,
     "metadata": {},
     "output_type": "execute_result"
    }
   ],
   "source": [
    "classes[np.argmax(predictions[31])]"
   ]
  },
  {
   "cell_type": "code",
   "execution_count": 39,
   "id": "af52c6be-6b05-4475-924f-4595a360e7ef",
   "metadata": {},
   "outputs": [],
   "source": [
    "# we have a cifar dataset with us which contains 60000 images belonging to 10 classes\n",
    "# we divided this into 2 parts one being 50000 images for the training part and 10000 for the testing part\n",
    "# along with this we also normalized the images to ensure values stay between 0 and 1\n",
    "# we created a model from scratch in which we have 2 convolution layers, 2 maxpool layers,\n",
    "# one flatten and two fully connected layers\n",
    "# for compilation we used adam as the optimizer, sparse categorical crossentropy as the loss,\n",
    "# and accuracy as the metric and we trained the model for 15 epochs\n",
    "# after which we got a result of 67% when tested on unseen data \n",
    "\n",
    "# Data\n",
    "# Preprocessing\n",
    "# Model Creation(Arch and compile)\n",
    "# Result\n"
   ]
  },
  {
   "cell_type": "code",
   "execution_count": 40,
   "id": "eeea1d6f-54eb-4d03-922d-9209fc5b41a0",
   "metadata": {},
   "outputs": [
    {
     "name": "stdout",
     "output_type": "stream",
     "text": [
      "Model: \"sequential\"\n",
      "_________________________________________________________________\n",
      " Layer (type)                Output Shape              Param #   \n",
      "=================================================================\n",
      " conv2d (Conv2D)             (None, 30, 30, 128)       3584      \n",
      "                                                                 \n",
      " max_pooling2d (MaxPooling2  (None, 15, 15, 128)       0         \n",
      " D)                                                              \n",
      "                                                                 \n",
      " conv2d_1 (Conv2D)           (None, 13, 13, 64)        73792     \n",
      "                                                                 \n",
      " max_pooling2d_1 (MaxPoolin  (None, 6, 6, 64)          0         \n",
      " g2D)                                                            \n",
      "                                                                 \n",
      " flatten (Flatten)           (None, 2304)              0         \n",
      "                                                                 \n",
      " dense (Dense)               (None, 32)                73760     \n",
      "                                                                 \n",
      " dense_1 (Dense)             (None, 10)                330       \n",
      "                                                                 \n",
      "=================================================================\n",
      "Total params: 151466 (591.66 KB)\n",
      "Trainable params: 151466 (591.66 KB)\n",
      "Non-trainable params: 0 (0.00 Byte)\n",
      "_________________________________________________________________\n"
     ]
    }
   ],
   "source": [
    "model.summary()"
   ]
  },
  {
   "cell_type": "code",
   "execution_count": 42,
   "id": "0d0b4198-69bd-4c65-b64e-2bf094a87985",
   "metadata": {},
   "outputs": [
    {
     "name": "stderr",
     "output_type": "stream",
     "text": [
      "C:\\Users\\Krishang Virmani\\AppData\\Local\\Programs\\Python\\Python311\\Lib\\site-packages\\keras\\src\\engine\\training.py:3000: UserWarning: You are saving your model as an HDF5 file via `model.save()`. This file format is considered legacy. We recommend using instead the native Keras format, e.g. `model.save('my_model.keras')`.\n",
      "  saving_api.save_model(\n"
     ]
    }
   ],
   "source": [
    "model.save('CNN_Cifar10.h5')"
   ]
  },
  {
   "cell_type": "code",
   "execution_count": null,
   "id": "61c301be-fdd4-4f05-b6ed-380b07c00f4d",
   "metadata": {},
   "outputs": [],
   "source": []
  }
 ],
 "metadata": {
  "kernelspec": {
   "display_name": "Python 3 (ipykernel)",
   "language": "python",
   "name": "python3"
  },
  "language_info": {
   "codemirror_mode": {
    "name": "ipython",
    "version": 3
   },
   "file_extension": ".py",
   "mimetype": "text/x-python",
   "name": "python",
   "nbconvert_exporter": "python",
   "pygments_lexer": "ipython3",
   "version": "3.11.5"
  }
 },
 "nbformat": 4,
 "nbformat_minor": 5
}
