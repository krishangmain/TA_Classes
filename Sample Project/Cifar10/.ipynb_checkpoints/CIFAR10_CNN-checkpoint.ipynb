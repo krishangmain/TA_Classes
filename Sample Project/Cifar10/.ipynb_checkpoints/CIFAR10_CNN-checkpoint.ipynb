{
 "cells": [
  {
   "cell_type": "code",
   "execution_count": 40,
   "id": "268b4aa5-80a2-482d-b808-d5acc4c087ca",
   "metadata": {},
   "outputs": [],
   "source": [
    "import tensorflow as tf\n",
    "import numpy as np \n",
    "import matplotlib.pyplot as plt\n",
    "\n"
   ]
  },
  {
   "cell_type": "code",
   "execution_count": 2,
   "id": "a12adeeb-52d9-4e08-b42b-2b06284a6c17",
   "metadata": {},
   "outputs": [],
   "source": [
    "cifar=tf.keras.datasets.cifar10"
   ]
  },
  {
   "cell_type": "code",
   "execution_count": 3,
   "id": "284104de-dad8-477d-8697-c2989e2b407c",
   "metadata": {},
   "outputs": [],
   "source": [
    "(training_data, training_Labels ),(testing_data, testing_labels)=cifar.load_data()"
   ]
  },
  {
   "cell_type": "code",
   "execution_count": 4,
   "id": "403f363f-7330-4dd1-9ca0-b1e5f1370875",
   "metadata": {},
   "outputs": [],
   "source": [
    "classes=['airplane','automobile','bird','cat','deer','dog','frog','horse','ship','truck']"
   ]
  },
  {
   "cell_type": "code",
   "execution_count": 5,
   "id": "d827958b-5505-4b70-b7d0-97fbdc0044c1",
   "metadata": {},
   "outputs": [
    {
     "data": {
      "text/plain": [
       "['airplane',\n",
       " 'automobile',\n",
       " 'bird',\n",
       " 'cat',\n",
       " 'deer',\n",
       " 'dog',\n",
       " 'frog',\n",
       " 'horse',\n",
       " 'ship',\n",
       " 'truck']"
      ]
     },
     "execution_count": 5,
     "metadata": {},
     "output_type": "execute_result"
    }
   ],
   "source": [
    "classes"
   ]
  },
  {
   "cell_type": "code",
   "execution_count": 7,
   "id": "94172668-4103-4661-bc8f-0293129f96f4",
   "metadata": {},
   "outputs": [
    {
     "data": {
      "text/plain": [
       "(50000, 32, 32, 3)"
      ]
     },
     "execution_count": 7,
     "metadata": {},
     "output_type": "execute_result"
    }
   ],
   "source": [
    "training_data.shape"
   ]
  },
  {
   "cell_type": "code",
   "execution_count": 8,
   "id": "e67ff237-b629-44db-bce0-6eefa34ed05b",
   "metadata": {},
   "outputs": [
    {
     "data": {
      "text/plain": [
       "(50000, 1)"
      ]
     },
     "execution_count": 8,
     "metadata": {},
     "output_type": "execute_result"
    }
   ],
   "source": [
    "training_Labels.shape"
   ]
  },
  {
   "cell_type": "code",
   "execution_count": 9,
   "id": "8bd04c58-4fd9-4226-bc11-569a82f93a6a",
   "metadata": {},
   "outputs": [],
   "source": [
    "training_data=training_data/255.0\n",
    "testing_data=testing_data/255.0"
   ]
  },
  {
   "cell_type": "code",
   "execution_count": 10,
   "id": "7c3c9a9b-4aa1-45c1-851a-9f79334a7116",
   "metadata": {},
   "outputs": [],
   "source": [
    "model=tf.keras.Sequential([\n",
    "    tf.keras.layers.Flatten(input_shape=(32, 32, 3)),\n",
    "    tf.keras.layers.Dense(256,activation='relu'),\n",
    "    tf.keras.layers.Dense(128,activation='relu'),\n",
    "    tf.keras.layers.Dense(64,activation='relu'),\n",
    "    tf.keras.layers.Dense(10,activation='softmax')\n",
    "])"
   ]
  },
  {
   "cell_type": "code",
   "execution_count": 12,
   "id": "aa5e7a2f-474d-497a-9a5c-730523639531",
   "metadata": {},
   "outputs": [],
   "source": [
    "model.compile(optimizer='adam',loss='sparse_categorical_crossentropy',metrics=['accuracy'])"
   ]
  },
  {
   "cell_type": "code",
   "execution_count": 13,
   "id": "23a7433f-c0a0-422f-90eb-12505f11eba6",
   "metadata": {},
   "outputs": [
    {
     "name": "stdout",
     "output_type": "stream",
     "text": [
      "Epoch 1/50\n",
      "1563/1563 [==============================] - 9s 5ms/step - loss: 1.8881 - accuracy: 0.3083\n",
      "Epoch 2/50\n",
      "1563/1563 [==============================] - 9s 6ms/step - loss: 1.7049 - accuracy: 0.3840\n",
      "Epoch 3/50\n",
      "1563/1563 [==============================] - 9s 6ms/step - loss: 1.6232 - accuracy: 0.4172\n",
      "Epoch 4/50\n",
      "1563/1563 [==============================] - 9s 6ms/step - loss: 1.5633 - accuracy: 0.4393\n",
      "Epoch 5/50\n",
      "1563/1563 [==============================] - 9s 6ms/step - loss: 1.5240 - accuracy: 0.4533\n",
      "Epoch 6/50\n",
      "1563/1563 [==============================] - 9s 6ms/step - loss: 1.4957 - accuracy: 0.4621\n",
      "Epoch 7/50\n",
      "1563/1563 [==============================] - 9s 6ms/step - loss: 1.4709 - accuracy: 0.4770\n",
      "Epoch 8/50\n",
      "1563/1563 [==============================] - 9s 6ms/step - loss: 1.4550 - accuracy: 0.4792\n",
      "Epoch 9/50\n",
      "1563/1563 [==============================] - 9s 6ms/step - loss: 1.4335 - accuracy: 0.4867\n",
      "Epoch 10/50\n",
      "1563/1563 [==============================] - 9s 5ms/step - loss: 1.4188 - accuracy: 0.4917\n",
      "Epoch 11/50\n",
      "1563/1563 [==============================] - 9s 6ms/step - loss: 1.3987 - accuracy: 0.4998\n",
      "Epoch 12/50\n",
      "1563/1563 [==============================] - 9s 6ms/step - loss: 1.3823 - accuracy: 0.5046\n",
      "Epoch 13/50\n",
      "1563/1563 [==============================] - 9s 6ms/step - loss: 1.3743 - accuracy: 0.5089\n",
      "Epoch 14/50\n",
      "1563/1563 [==============================] - 9s 6ms/step - loss: 1.3592 - accuracy: 0.5129\n",
      "Epoch 15/50\n",
      "1563/1563 [==============================] - 9s 6ms/step - loss: 1.3428 - accuracy: 0.5211\n",
      "Epoch 16/50\n",
      "1563/1563 [==============================] - 10s 6ms/step - loss: 1.3383 - accuracy: 0.5198\n",
      "Epoch 17/50\n",
      "1563/1563 [==============================] - 9s 6ms/step - loss: 1.3203 - accuracy: 0.5288\n",
      "Epoch 18/50\n",
      "1563/1563 [==============================] - 10s 6ms/step - loss: 1.3156 - accuracy: 0.5280\n",
      "Epoch 19/50\n",
      "1563/1563 [==============================] - 10s 6ms/step - loss: 1.3043 - accuracy: 0.5327\n",
      "Epoch 20/50\n",
      "1563/1563 [==============================] - 10s 6ms/step - loss: 1.2942 - accuracy: 0.5371\n",
      "Epoch 21/50\n",
      "1563/1563 [==============================] - 9s 6ms/step - loss: 1.2844 - accuracy: 0.5403\n",
      "Epoch 22/50\n",
      "1563/1563 [==============================] - 9s 6ms/step - loss: 1.2785 - accuracy: 0.5424\n",
      "Epoch 23/50\n",
      "1563/1563 [==============================] - 9s 6ms/step - loss: 1.2707 - accuracy: 0.5435\n",
      "Epoch 24/50\n",
      "1563/1563 [==============================] - 9s 6ms/step - loss: 1.2585 - accuracy: 0.5493\n",
      "Epoch 25/50\n",
      "1563/1563 [==============================] - 10s 6ms/step - loss: 1.2534 - accuracy: 0.5505\n",
      "Epoch 26/50\n",
      "1563/1563 [==============================] - 9s 6ms/step - loss: 1.2443 - accuracy: 0.5522\n",
      "Epoch 27/50\n",
      "1563/1563 [==============================] - 9s 6ms/step - loss: 1.2401 - accuracy: 0.5570\n",
      "Epoch 28/50\n",
      "1563/1563 [==============================] - 9s 6ms/step - loss: 1.2265 - accuracy: 0.5598\n",
      "Epoch 29/50\n",
      "1563/1563 [==============================] - 9s 6ms/step - loss: 1.2265 - accuracy: 0.5599\n",
      "Epoch 30/50\n",
      "1563/1563 [==============================] - 9s 6ms/step - loss: 1.2217 - accuracy: 0.5618\n",
      "Epoch 31/50\n",
      "1563/1563 [==============================] - 9s 6ms/step - loss: 1.2114 - accuracy: 0.5646\n",
      "Epoch 32/50\n",
      "1563/1563 [==============================] - 9s 6ms/step - loss: 1.2049 - accuracy: 0.5668\n",
      "Epoch 33/50\n",
      "1563/1563 [==============================] - 9s 6ms/step - loss: 1.1971 - accuracy: 0.5683\n",
      "Epoch 34/50\n",
      "1563/1563 [==============================] - 9s 6ms/step - loss: 1.1914 - accuracy: 0.5721\n",
      "Epoch 35/50\n",
      "1563/1563 [==============================] - 9s 6ms/step - loss: 1.1891 - accuracy: 0.5721\n",
      "Epoch 36/50\n",
      "1563/1563 [==============================] - 9s 6ms/step - loss: 1.1822 - accuracy: 0.5764\n",
      "Epoch 37/50\n",
      "1563/1563 [==============================] - 9s 6ms/step - loss: 1.1798 - accuracy: 0.5769\n",
      "Epoch 38/50\n",
      "1563/1563 [==============================] - 9s 6ms/step - loss: 1.1732 - accuracy: 0.5777\n",
      "Epoch 39/50\n",
      "1563/1563 [==============================] - 9s 6ms/step - loss: 1.1666 - accuracy: 0.5806\n",
      "Epoch 40/50\n",
      "1563/1563 [==============================] - 9s 6ms/step - loss: 1.1600 - accuracy: 0.5806\n",
      "Epoch 41/50\n",
      "1563/1563 [==============================] - 9s 6ms/step - loss: 1.1534 - accuracy: 0.5877\n",
      "Epoch 42/50\n",
      "1563/1563 [==============================] - 9s 6ms/step - loss: 1.1558 - accuracy: 0.5837\n",
      "Epoch 43/50\n",
      "1563/1563 [==============================] - 9s 6ms/step - loss: 1.1470 - accuracy: 0.5831\n",
      "Epoch 44/50\n",
      "1563/1563 [==============================] - 9s 6ms/step - loss: 1.1459 - accuracy: 0.5873\n",
      "Epoch 45/50\n",
      "1563/1563 [==============================] - 9s 6ms/step - loss: 1.1406 - accuracy: 0.5896\n",
      "Epoch 46/50\n",
      "1563/1563 [==============================] - 9s 6ms/step - loss: 1.1401 - accuracy: 0.5888\n",
      "Epoch 47/50\n",
      "1563/1563 [==============================] - 9s 6ms/step - loss: 1.1286 - accuracy: 0.5918\n",
      "Epoch 48/50\n",
      "1563/1563 [==============================] - 9s 6ms/step - loss: 1.1288 - accuracy: 0.5973\n",
      "Epoch 49/50\n",
      "1563/1563 [==============================] - 9s 6ms/step - loss: 1.1235 - accuracy: 0.5954\n",
      "Epoch 50/50\n",
      "1563/1563 [==============================] - 9s 6ms/step - loss: 1.1175 - accuracy: 0.5950\n"
     ]
    },
    {
     "data": {
      "text/plain": [
       "<keras.src.callbacks.History at 0x1bcafb22850>"
      ]
     },
     "execution_count": 13,
     "metadata": {},
     "output_type": "execute_result"
    }
   ],
   "source": [
    "model.fit(training_data,training_Labels,epochs=50)"
   ]
  },
  {
   "cell_type": "code",
   "execution_count": 47,
   "id": "178c9216-7de9-44f4-a6e5-09ae0113e2cc",
   "metadata": {},
   "outputs": [],
   "source": [
    "# from keras.models import load_model\n",
    "# model.save(\"cifar_ann.h5\")\n",
    "# new_model=load_model(\"cifar_ann.h5\")\n",
    "\n",
    "# code for saving and using model without running the file again and again in jupyter\n",
    "#pickle file"
   ]
  },
  {
   "cell_type": "code",
   "execution_count": null,
   "id": "8f84fa01-9a24-4403-9028-a0acea176b00",
   "metadata": {},
   "outputs": [],
   "source": []
  },
  {
   "cell_type": "code",
   "execution_count": null,
   "id": "3f98d232-1556-4569-92df-a34ca5646c40",
   "metadata": {},
   "outputs": [],
   "source": [
    "test_loss, test_accuraccy = new_model.evaluate(testing_data, testing_labels)"
   ]
  },
  {
   "cell_type": "code",
   "execution_count": null,
   "id": "9c32bb6d-5ec2-4053-8d3f-824c2e8412fb",
   "metadata": {},
   "outputs": [],
   "source": [
    "test_accuracy, test_loss"
   ]
  },
  {
   "cell_type": "code",
   "execution_count": 26,
   "id": "d7e3f864-5f36-422b-881c-a3a534a2d6d8",
   "metadata": {},
   "outputs": [
    {
     "name": "stdout",
     "output_type": "stream",
     "text": [
      "313/313 [==============================] - 0s 1ms/step\n"
     ]
    }
   ],
   "source": [
    "predictions=model.predict(testing_data)  #testing_labels"
   ]
  },
  {
   "cell_type": "code",
   "execution_count": 37,
   "id": "7fff99a5-f87a-4c5e-bcdd-07ebb45f51f8",
   "metadata": {},
   "outputs": [
    {
     "data": {
      "text/plain": [
       "'dog'"
      ]
     },
     "execution_count": 37,
     "metadata": {},
     "output_type": "execute_result"
    }
   ],
   "source": [
    "classes[testing_labels[31][0]]"
   ]
  },
  {
   "cell_type": "code",
   "execution_count": 38,
   "id": "8297ef34-3971-4459-8577-f20e64adc50f",
   "metadata": {},
   "outputs": [
    {
     "data": {
      "text/plain": [
       "'deer'"
      ]
     },
     "execution_count": 38,
     "metadata": {},
     "output_type": "execute_result"
    }
   ],
   "source": [
    "classes[np.argmax(predictions[31])]"
   ]
  },
  {
   "cell_type": "code",
   "execution_count": null,
   "id": "b4caafad-06f6-4fbd-9f39-bd82d96292d4",
   "metadata": {},
   "outputs": [],
   "source": []
  }
 ],
 "metadata": {
  "kernelspec": {
   "display_name": "Python 3 (ipykernel)",
   "language": "python",
   "name": "python3"
  },
  "language_info": {
   "codemirror_mode": {
    "name": "ipython",
    "version": 3
   },
   "file_extension": ".py",
   "mimetype": "text/x-python",
   "name": "python",
   "nbconvert_exporter": "python",
   "pygments_lexer": "ipython3",
   "version": "3.11.5"
  }
 },
 "nbformat": 4,
 "nbformat_minor": 5
}
