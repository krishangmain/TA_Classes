{
 "cells": [
  {
   "cell_type": "code",
   "execution_count": null,
   "id": "04ed7d6f-2996-47d0-a583-bbdcde1d8353",
   "metadata": {},
   "outputs": [],
   "source": [
    "base case\n",
    "current work\n",
    "recursive call\n",
    "\n",
    "\n",
    "def factorial(n):\n",
    "    if n == 0:       #base case \n",
    "        return 1\n",
    "    else:\n",
    "        return n * factorial(n - 1)   #recursive call\n"
   ]
  },
  {
   "cell_type": "code",
   "execution_count": 3,
   "id": "fcd2c5ab-0ea2-4691-bc5d-f9e5b7323159",
   "metadata": {},
   "outputs": [],
   "source": [
    "# q1\n",
    "#find the occurances of a number in a given list using recursion "
   ]
  },
  {
   "cell_type": "code",
   "execution_count": 4,
   "id": "aa93094a-f70f-464e-a819-e2e9a86a04af",
   "metadata": {},
   "outputs": [],
   "source": [
    "def occurances(lst,element):\n",
    "    if len(lst)==0:    #stop when the length of the list is 0\n",
    "        return 0\n",
    "    else:\n",
    "        if lst[0]==element:\n",
    "            count=1           #if the element is at the start of the list count ki value is 1 otherwise the value is 0\n",
    "        else:\n",
    "            count=0\n",
    "    return count+occurances(lst[1:],element)\n",
    "    # current count value , adding the count value of the next iteration of the list\n",
    "\n"
   ]
  },
  {
   "cell_type": "code",
   "execution_count": 5,
   "id": "c9f2b2e5-e9a5-4b16-8f1e-1462e1cc6a91",
   "metadata": {},
   "outputs": [],
   "source": [
    "lst=[1,2,3,3,3,4]      \n",
    "element=3"
   ]
  },
  {
   "cell_type": "code",
   "execution_count": 6,
   "id": "9b0109db-0d1d-4967-a189-ab95d3c92f1e",
   "metadata": {},
   "outputs": [],
   "source": [
    "ans=occurances(lst,element)"
   ]
  },
  {
   "cell_type": "code",
   "execution_count": 8,
   "id": "d6d49cd6-0e29-4430-aa37-880a04339cb6",
   "metadata": {},
   "outputs": [
    {
     "data": {
      "text/plain": [
       "3"
      ]
     },
     "execution_count": 8,
     "metadata": {},
     "output_type": "execute_result"
    }
   ],
   "source": [
    "ans"
   ]
  },
  {
   "cell_type": "code",
   "execution_count": 9,
   "id": "1b5ec4f3-8926-4665-92de-3469d4ccb412",
   "metadata": {},
   "outputs": [],
   "source": [
    "# []\n",
    "\n",
    "# count=0+0+1+1+1+0+0\n",
    "# 3"
   ]
  },
  {
   "cell_type": "code",
   "execution_count": 10,
   "id": "ff1ca3e9-6298-40e8-9aa0-3ee2c5a49a95",
   "metadata": {},
   "outputs": [],
   "source": [
    "# q2 reverse a list using recursion"
   ]
  },
  {
   "cell_type": "code",
   "execution_count": 14,
   "id": "f7016458-d62d-49b7-bafa-17fca2e48ff0",
   "metadata": {},
   "outputs": [],
   "source": [
    "def reverse1(lst):\n",
    "    if len(lst)==0:\n",
    "        return [] \n",
    "    else:\n",
    "        return reverse1(lst[1:])+[lst[0]]\n",
    "        # [1,2,3]+[1]=[1,2,3,1]"
   ]
  },
  {
   "cell_type": "code",
   "execution_count": 15,
   "id": "b1f8bc27-c5ad-4945-bc78-229b0df6a121",
   "metadata": {},
   "outputs": [],
   "source": [
    "lst=[1,2,3,4,5]"
   ]
  },
  {
   "cell_type": "code",
   "execution_count": 16,
   "id": "ed251af4-0b6e-4388-8332-fd0dcb632c50",
   "metadata": {},
   "outputs": [
    {
     "data": {
      "text/plain": [
       "[5, 4, 3, 2, 1]"
      ]
     },
     "execution_count": 16,
     "metadata": {},
     "output_type": "execute_result"
    }
   ],
   "source": [
    "reverse1(lst)"
   ]
  },
  {
   "cell_type": "code",
   "execution_count": 17,
   "id": "c09188cc-1a8d-413e-b598-5d1d1aceee7d",
   "metadata": {},
   "outputs": [],
   "source": [
    "# 1,2,3,4,5\n",
    "# rev(2,3,4,5) + [1]  [5,4,3,2] +[1]   [5,4,3,2,1]\n",
    "\n",
    "# 2,3,4,5\n",
    "# rev(3,4,5) + [2]    [5,4,3]+[2]\n",
    "\n",
    "# 3,4,5 \n",
    "# rev(4,5) + [3]      [5,4] +[3]  \n",
    "\n",
    "# 4,5\n",
    "# rev(5)+[4]     [5]+[4]\n",
    "\n",
    "# 5\n",
    "# rev([]) + [5]    [] + [5]\n",
    "\n",
    "# []\n"
   ]
  },
  {
   "cell_type": "code",
   "execution_count": 18,
   "id": "33b5afa9-765a-4a68-a877-761eed956ee1",
   "metadata": {},
   "outputs": [],
   "source": [
    "# q3 list sum of elements "
   ]
  },
  {
   "cell_type": "code",
   "execution_count": 21,
   "id": "d9e096a2-dded-43c6-8834-d61ac6ac07bf",
   "metadata": {},
   "outputs": [],
   "source": [
    "def sum1(lst):\n",
    "    if len(lst)==0:\n",
    "        return 0 \n",
    "    else:\n",
    "        return lst[0]+sum1(lst[1:])"
   ]
  },
  {
   "cell_type": "code",
   "execution_count": 22,
   "id": "24f80f37-ecb2-4126-9bfc-527c8a5b6c0f",
   "metadata": {},
   "outputs": [
    {
     "data": {
      "text/plain": [
       "15"
      ]
     },
     "execution_count": 22,
     "metadata": {},
     "output_type": "execute_result"
    }
   ],
   "source": [
    "sum1(lst)"
   ]
  },
  {
   "cell_type": "code",
   "execution_count": 23,
   "id": "c45bbc05-c167-4cd9-b537-68e28be8eb9e",
   "metadata": {},
   "outputs": [],
   "source": [
    "# q4 AP Arithmetic progression \n",
    "# a first term\n",
    "# d is common difference\n",
    "\n",
    "# n number of elements\n",
    "\n",
    "# a=1, d=2, n=3\n",
    "\n",
    "# AP=[1,3,5]=9\n",
    "\n",
    "\n",
    "# a,d,n\n",
    "\n",
    "# sum \n",
    "# n/2(2a + (n-1)d)\n",
    "# n/2(a+l)  l is the last term\n",
    "\n"
   ]
  },
  {
   "cell_type": "code",
   "execution_count": 24,
   "id": "edac3754-b789-42f6-b560-b2c6d40da952",
   "metadata": {},
   "outputs": [],
   "source": [
    "# # base case and recursive call, base case \n",
    "# n=1,a=3, d=5\n",
    "\n",
    "# a\n",
    "# a+a+d\n",
    "# a+a+d+a+2d\n",
    "\n",
    "\n",
    "\n",
    "# a\n",
    "\n",
    "# a+d, n-1, d"
   ]
  },
  {
   "cell_type": "code",
   "execution_count": 25,
   "id": "bdc01beb-f2f9-42dd-b9ba-7752118d3074",
   "metadata": {},
   "outputs": [],
   "source": [
    "def Ap_sum(a,n,d):\n",
    "    if n==1:\n",
    "        return a\n",
    "    else:\n",
    "        return a + Ap_sum(a+d,n-1,d)\n",
    "        "
   ]
  },
  {
   "cell_type": "code",
   "execution_count": 26,
   "id": "79fa0ef2-9b49-4dd7-a509-0468be0b5a38",
   "metadata": {},
   "outputs": [
    {
     "data": {
      "text/plain": [
       "9"
      ]
     },
     "execution_count": 26,
     "metadata": {},
     "output_type": "execute_result"
    }
   ],
   "source": [
    "Ap_sum(1,3,2)"
   ]
  },
  {
   "cell_type": "code",
   "execution_count": 29,
   "id": "481060e9-44a4-4d7a-bcc4-8946b39cf773",
   "metadata": {},
   "outputs": [],
   "source": [
    "# q5\n",
    "# same as above but now with Geometric progression \n",
    "# a= first term , r common ratio , n= num of elements\n",
    "# nth term is\n",
    "# a*d^(n-1) \n",
    "#sum of all elements\n"
   ]
  },
  {
   "cell_type": "code",
   "execution_count": 30,
   "id": "078bb50d-b8b1-4d04-94c1-79e4c75e4a13",
   "metadata": {},
   "outputs": [],
   "source": [
    "def Gp_sum(a,n,d):\n",
    "    if n==1:\n",
    "        return a\n",
    "    else:\n",
    "        return a + Gp_sum(a*d,n-1,d)"
   ]
  },
  {
   "cell_type": "code",
   "execution_count": 31,
   "id": "37f0ad37-c04c-43ea-b9cf-c817b649b8e7",
   "metadata": {},
   "outputs": [
    {
     "data": {
      "text/plain": [
       "14"
      ]
     },
     "execution_count": 31,
     "metadata": {},
     "output_type": "execute_result"
    }
   ],
   "source": [
    "Gp_sum(2,3,2)"
   ]
  },
  {
   "cell_type": "code",
   "execution_count": 32,
   "id": "288ba832-bf62-4267-88b8-65005a648a39",
   "metadata": {},
   "outputs": [],
   "source": [
    "# Permutaions and Combinations \n",
    "# 4  \n",
    "# 1,2\n",
    "\n",
    "# 1,1,1,1\n",
    "# 1,2,1\n",
    "# 2,2\n",
    "# 1,1,2\n",
    "# 2,1,1\n",
    "# recursion code which calculates the number of way we can \n",
    "# climb the stairs if we are to take  1 or 2 steps at a time\n"
   ]
  },
  {
   "cell_type": "code",
   "execution_count": 33,
   "id": "8e78d461-f3dc-4608-b6a4-842ce28831b2",
   "metadata": {},
   "outputs": [],
   "source": [
    "# 1,2 \n",
    "# n=0, return 0\n",
    "# n=1 return 1\n",
    "# n=2 tricky, two ways of doing this, 1,1 2\n",
    "# n=2 return 2\n",
    "\n",
    "# n=3\n",
    "# 1,1,1\n",
    "# 2,1\n",
    "# 1,2\n",
    "\n",
    "# n=3 is the sum of number of ways you can climb 1+2 stairs\n",
    "\n",
    "\n"
   ]
  },
  {
   "cell_type": "code",
   "execution_count": 34,
   "id": "3347cee8-df9a-427f-82c2-ec1080cb11da",
   "metadata": {},
   "outputs": [],
   "source": [
    "def counter(n):\n",
    "    if n<=2:\n",
    "        return n\n",
    "    else:\n",
    "        return counter(n-1)+counter(n-2)"
   ]
  },
  {
   "cell_type": "code",
   "execution_count": 35,
   "id": "446fb40d-49f4-4a98-aa31-6fe416e609a2",
   "metadata": {},
   "outputs": [
    {
     "data": {
      "text/plain": [
       "5"
      ]
     },
     "execution_count": 35,
     "metadata": {},
     "output_type": "execute_result"
    }
   ],
   "source": [
    "counter(4)"
   ]
  },
  {
   "cell_type": "code",
   "execution_count": 36,
   "id": "81bf9260-b5ff-48fe-9f37-6f68d8820cde",
   "metadata": {},
   "outputs": [],
   "source": [
    "# # Binary Search \n",
    "# BS(lst,element)\n",
    "# sorted list = [1,2,3,4,5,6,7]\n",
    "# n=2\n",
    "# # lst[n/2+1]\n",
    "# n > mid\n",
    "\n",
    "# BS(lst[mid:])\n",
    "# n<mid\n",
    "# BS(lst[:mid])\n",
    "\n"
   ]
  },
  {
   "cell_type": "code",
   "execution_count": null,
   "id": "981d4f82-79f3-4fa8-b040-8de1a50ff530",
   "metadata": {},
   "outputs": [],
   "source": []
  }
 ],
 "metadata": {
  "kernelspec": {
   "display_name": "Python 3 (ipykernel)",
   "language": "python",
   "name": "python3"
  },
  "language_info": {
   "codemirror_mode": {
    "name": "ipython",
    "version": 3
   },
   "file_extension": ".py",
   "mimetype": "text/x-python",
   "name": "python",
   "nbconvert_exporter": "python",
   "pygments_lexer": "ipython3",
   "version": "3.11.5"
  }
 },
 "nbformat": 4,
 "nbformat_minor": 5
}
